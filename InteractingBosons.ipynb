{
 "cells": [
  {
   "cell_type": "markdown",
   "metadata": {},
   "source": [
    "# Two excitation limit SSH Model\n",
    "Now the Hamiltonian is of the form:\n",
    "$$H=H_{SSH}+H_{int}$$\n",
    "Where the Hamiltonian of the interaction is:\n",
    "$$H_{int}=\\frac{1}{2}\\sum_i U a_i^\\dagger a_i^\\dagger a_i a_i=\\frac{1}{2}\\sum_i U n_i(n_i-1)  $$\n",
    "The basis in which we will be working is:\n",
    "$$\\mathfrak{B}=\\left\\{ |10 \\cdots 010 \\cdots \\rangle , |020\\cdots 0\\rangle, \\cdots \\right\\}$$\n",
    "Where the first ket represents a bosonic excitation in the first cell and another in the i-th cell, the second ket represents the two bosons in the second cell.\n",
    "\n",
    "As the particles with which we are working are bosons there can be two of them in the same state."
   ]
  },
  {
   "cell_type": "markdown",
   "metadata": {},
   "source": [
    "First we will study the Bose-Hubbard dimer, two particles, with hopping $J$ between them and repulsion energy $U$."
   ]
  },
  {
   "cell_type": "code",
   "execution_count": 262,
   "metadata": {},
   "outputs": [],
   "source": [
    "DisplayNumericalValues=False\n",
    "#With Numba I can calculate all about a n=50 chain in 2:30 minutes!!!!!!"
   ]
  },
  {
   "cell_type": "code",
   "execution_count": 263,
   "metadata": {},
   "outputs": [],
   "source": [
    "from sympy.interactive import printing\n",
    "printing.init_printing(use_latex = True)\n",
    "\n",
    "import numpy as np\n",
    "import sympy as sp\n",
    "import scipy as sc\n",
    "from scipy.misc import derivative\n",
    "from sympy import *\n",
    "from numpy.linalg import eig\n",
    "from numpy import sin\n",
    "from numpy import pi\n",
    "from sympy import Array\n",
    "from sympy.matrices import Matrix\n",
    "import matplotlib.pyplot as plt\n",
    "from mpl_toolkits import mplot3d\n",
    "\n",
    "import numba\n",
    "from numba.types import *\n",
    "from numba import prange\n",
    "\n",
    "from scipy.optimize import curve_fit\n",
    "from scipy.stats import linregress"
   ]
  },
  {
   "cell_type": "code",
   "execution_count": 264,
   "metadata": {},
   "outputs": [],
   "source": [
    "#Here we consider m=1, ħ=1 and a lattice with distance L=1\n",
    "L=1\n",
    "N=20\n",
    "J1=0.1\n",
    "J2=1\n",
    "U=5\n",
    "ω=0\n",
    "weight=0.01"
   ]
  },
  {
   "cell_type": "code",
   "execution_count": 265,
   "metadata": {},
   "outputs": [],
   "source": [
    "@numba.jit(numba.types.Tuple((float64, float64))(float64), nopython = True, parallel = False)\n",
    "def a(n):\n",
    "    if n == 0:\n",
    "        return (0,0)\n",
    "    else:\n",
    "        return (n-1, np.sqrt(n))\n",
    "\n",
    "@numba.jit(numba.types.Tuple((float64, float64))(float64), nopython = True, parallel = False)\n",
    "def a_plus(n):\n",
    "\n",
    "    return (n+1, np.sqrt(n+1))"
   ]
  },
  {
   "cell_type": "code",
   "execution_count": 266,
   "metadata": {},
   "outputs": [],
   "source": [
    "@numba.jit(float64(float64[:],float64[:]), nopython = True, parallel = False)\n",
    "def bracket(bra1, ket1):\n",
    "    if np.all(bra1 == ket1):\n",
    "        return 1\n",
    "    else:\n",
    "        return 0\n",
    "    #print(\"Subalgoritmo bra-ket\")\n",
    "    #print(bra1, ket1)\n",
    "    #print(resultado)"
   ]
  },
  {
   "cell_type": "code",
   "execution_count": 267,
   "metadata": {},
   "outputs": [],
   "source": [
    "#@numba.jit(float64[:](int32[:], float64), nopython=True, fastmath=True, parallel=False)\n",
    "def func(x, λ, A):\n",
    "    return ((x-A)/λ)"
   ]
  },
  {
   "cell_type": "code",
   "execution_count": 268,
   "metadata": {},
   "outputs": [],
   "source": [
    "#Este subalgoritmo calcula un elemento de matriz con un Hamiltoniano \n",
    "@numba.jit(float64(float64[:],float64[:],float64, int64, float64), nopython = True, parallel = False)\n",
    "def Elemento_matriz_Hamiltoniano(bra, ket, U, N, ω):\n",
    "    #print(bra,ket)\n",
    "    #<bra|H|ket>\n",
    "    n_eigval=N*(N+1)/2\n",
    "    H=0\n",
    "\n",
    "    ket_aux = np.empty(len(ket))\n",
    "    ket_aux2 = np.empty(len(ket))\n",
    "    bra_aux = np.empty(len(ket))\n",
    "\n",
    "    bracket1 = bracket(bra, ket)\n",
    "\n",
    "    H += np.sum(ω*ket*bracket1)\n",
    "    H += np.sum(0.5*U*ket*(ket-1)*bracket1)\n",
    "    \n",
    "    ket_aux[:] = ket\n",
    "    ket_aux2[:] = ket\n",
    "    bra_aux[:] = bra\n",
    "    if (N-1)%2==0:\n",
    "        J=J1\n",
    "    else:\n",
    "        J=J2\n",
    "    #P.B.C.\n",
    "    #ket_aux[0], coef_term2=a(ket_aux[0])\n",
    "    #H.B.C.\n",
    "    ket_aux[0], coef_term2=0,0\n",
    "    ket_aux[N-1], coef_term2_aux=a_plus(ket_aux[N-1])\n",
    "    term2 = J*coef_term2*coef_term2_aux*bracket(bra_aux, ket_aux)\n",
    "    ket_aux2[N-1], coef_term3=a(ket_aux2[N-1])\n",
    "    #P.B.C.\n",
    "    #ket_aux2[0], coef_term3_aux=a_plus(ket_aux2[0])\n",
    "    #H.B.C.\n",
    "    ket_aux2[0], coef_term3_aux=0,0\n",
    "    term3=(J)*coef_term3*coef_term3_aux*bracket(bra_aux, ket_aux2)\n",
    "    H+=term2+term3\n",
    "    for i in range(len(ket)-1):\n",
    "            ket_aux[:] = ket\n",
    "            ket_aux2[:] = ket\n",
    "            bra_aux[:] = bra\n",
    "            #print(\"El valor de bra en el subalgoritmo\")\n",
    "            #print(bra)\n",
    "            #coef_term2=coef_term2_aux=coef_term3=coef_term3_aux=0\n",
    "            if i%2==0:\n",
    "                J=-J1\n",
    "            else:\n",
    "                J=-J2\n",
    "            \n",
    "            #print(\"Entro en el else\")\n",
    "            ket_aux[i+1], coef_term2 = a(ket_aux[i+1])\n",
    "            ket_aux[i], coef_term2_aux=a_plus(ket_aux[i])\n",
    "            term2=J*coef_term2*coef_term2_aux*bracket(bra_aux, ket_aux)\n",
    "            ket_aux2[i], coef_term3=a(ket_aux2[i])\n",
    "            ket_aux2[i+1], coef_term3_aux=a_plus(ket_aux2[i+1])\n",
    "            term3=(J)*coef_term3*coef_term3_aux*bracket(bra_aux, ket_aux2)\n",
    "\n",
    "            #print(term2, term3)\n",
    "            H+=term2+term3\n",
    "    #print(\"\\n\")\n",
    "    return H"
   ]
  },
  {
   "cell_type": "code",
   "execution_count": 269,
   "metadata": {},
   "outputs": [],
   "source": [
    "Identity=np.identity(N)\n",
    "n_eigval=int(N*(N+1)/2)\n",
    "base=np.empty((n_eigval, N))\n",
    "counter=0\n",
    "for l in range(N):\n",
    "    for k in range(l,N):\n",
    "        ketB=Identity[k,:]+Identity[l,:]\n",
    "        #print(ketB)\n",
    "        base[counter, :]=ketB\n",
    "        counter+=1\n",
    "if DisplayNumericalValues:\n",
    "    for i in range(len(base[:,0])):\n",
    "        print((base[i,:]))\n",
    "        \n",
    "n_eigval=int(N*(N+1)/2)\n",
    "if ω==0:\n",
    "    ω_array=(2*weight*(np.random.rand(N)-0.5))\n",
    "else:\n",
    "    ω_array=ω*(1+2*weight*(np.random.rand(N)-0.5))\n",
    "ω_matrix=np.zeros((n_eigval, n_eigval))\n",
    "counter=0\n",
    "for l in range(N):\n",
    "    for k in range(l,N):\n",
    "        ω_matrix[counter, counter]=(ω_array[l]+ω_array[k])/2\n",
    "        counter+=1"
   ]
  },
  {
   "cell_type": "code",
   "execution_count": 270,
   "metadata": {},
   "outputs": [],
   "source": [
    "@numba.jit(float64[:,:](float64,float64[:,:], int64), nopython = True, parallel = False)\n",
    "def ComputeH(U,base, N):\n",
    "    H = np.empty((n_eigval,n_eigval))\n",
    "    for i2 in range(n_eigval):\n",
    "        for j2 in range(n_eigval):\n",
    "            H[i2,j2]=Elemento_matriz_Hamiltoniano(base[i2],base[j2], U, N, ω_matrix[i2, j2])\n",
    "    return H"
   ]
  },
  {
   "cell_type": "code",
   "execution_count": 271,
   "metadata": {},
   "outputs": [],
   "source": [
    "@numba.jit(float64[:, :](int64, float64, float64), nopython=True, parallel=False)\n",
    "def FastHamiltonian(N, J1, J2):\n",
    "    #Manera rapida de calcular el Hamiltoniano\n",
    "    aux_N=int(N/2) #Numero de celdas\n",
    "    H_int1=np.asarray([[0, 1], [1, 0]])\n",
    "    aux1=np.kron(np.eye(aux_N), H_int1)\n",
    "    aux2=np.eye(N, k=1)+np.eye(N, k=-1)-aux1\n",
    "    aux3=np.zeros((N, N))\n",
    "    for i in range(N):\n",
    "        aux3[i, i]=ω_array[i]\n",
    "    H=J1*aux1+J2*aux2+aux3\n",
    "    #print(H)\n",
    "    return H"
   ]
  },
  {
   "cell_type": "code",
   "execution_count": 272,
   "metadata": {},
   "outputs": [],
   "source": [
    "@numba.jit(numba.types.Tuple((int64[:], int64[:], int64[:], float64[:], float64[:, :]))(int64), nopython = True, parallel = False)\n",
    "def ComputeIndexes(N):    \n",
    "    H1p=FastHamiltonian(N, J1, J2)\n",
    "    eigval1p, eigvect1p=eig(H1p)\n",
    "    idx1p = np.argsort(eigval1p)\n",
    "    eigval1p = eigval1p[idx1p]\n",
    "    eigvect1p=eigvect1p[:, idx1p]\n",
    "    \n",
    "    if DisplayNumericalValues:\n",
    "        print(eigval1p)\n",
    "    eigvalNeg=eigval1p[:int(N/2)]\n",
    "    if J2>J1:\n",
    "        InterestingIndex=np.argmax(eigvalNeg)\n",
    "    else:\n",
    "        InterestingIndex=-100000\n",
    "    E_teorIndep=[]\n",
    "    eigvect_teorIndep=np.empty((N, n_eigval))\n",
    "    NumberIterations=0\n",
    "    IndexEdgeEdge=[]\n",
    "    IndexBulkEdge=[]\n",
    "    counter=0\n",
    "    #Edge_Edge_Energies=[2*eigval1p[InterestingIndex], eigval1p[InterestingIndex]+ eigval1p[InterestingIndex+1], 2*eigval1p[InterestingIndex+1]]\n",
    "    for i in range(N):\n",
    "        for j in range (i,N):\n",
    "            E_teorIndep.append(eigval1p[i]+eigval1p[j])\n",
    "            eigvect_teorIndep[:, counter]=(eigvect1p[:, i]*eigvect1p[:, j]+eigvect1p[:, j]*eigvect1p[:, i])/(np.sqrt(np.sum(np.abs((eigvect1p[:, i]*eigvect1p[:, j]+eigvect1p[:, j]*eigvect1p[:, i])**2))))\n",
    "            if i== InterestingIndex or i==InterestingIndex+1:\n",
    "                if j== InterestingIndex or j==InterestingIndex+1:\n",
    "                    IndexEdgeEdge.append(counter)\n",
    "                else:\n",
    "                    IndexBulkEdge.append(counter)\n",
    "            else:\n",
    "                if j== InterestingIndex or j==InterestingIndex+1:\n",
    "                    IndexBulkEdge.append(counter)\n",
    "            counter+=1\n",
    "    E_teorIndep=np.asarray(E_teorIndep)\n",
    "    idx=np.argsort(E_teorIndep)\n",
    "    E_teorIndep=E_teorIndep[idx]\n",
    "    eigvect_teorIndep=eigvect_teorIndep[:, idx]\n",
    "    for i in range(len(IndexEdgeEdge)):\n",
    "        IndexEdgeEdge[i]=np.argmin(np.abs(idx-IndexEdgeEdge[i]))\n",
    "    for i in range(len(IndexBulkEdge)):\n",
    "        IndexBulkEdge[i]=np.argmin(np.abs(idx-IndexBulkEdge[i]))\n",
    "    IndexBulkBulk=[]\n",
    "    for k in range(len(E_teorIndep)):\n",
    "        if k in IndexBulkEdge :\n",
    "            dummy=1\n",
    "        elif k in IndexEdgeEdge:\n",
    "            dummy=2\n",
    "        else:\n",
    "            IndexBulkBulk.append(k)\n",
    "    IndexEdgeEdge=np.asarray(IndexEdgeEdge)\n",
    "    IndexBulkEdge=np.asarray(IndexBulkEdge)\n",
    "    IndexBulkBulk=np.asarray(IndexBulkBulk)\n",
    "    #print(IndexEdgeEdge)\n",
    "    #print(out)\n",
    "    return (IndexEdgeEdge, IndexBulkEdge, IndexBulkBulk, E_teorIndep, eigvect_teorIndep)"
   ]
  },
  {
   "cell_type": "code",
   "execution_count": 273,
   "metadata": {},
   "outputs": [],
   "source": [
    "#Calculamos la matriz del Hamiltoniano\n",
    "H=ComputeH(U, base, N)\n",
    "if DisplayNumericalValues:\n",
    "    print(H)"
   ]
  },
  {
   "cell_type": "code",
   "execution_count": 274,
   "metadata": {},
   "outputs": [],
   "source": [
    "#Sacamos autovalores y autovectores del Hamiltoniano\n",
    "eigval, eigvect=eig(H)\n",
    "idx = np.argsort(eigval) #Ordenamos los autovalores y autovectores\n",
    "eigval = eigval[idx]\n",
    "eigvect=eigvect[:,idx]\n",
    "for i in range(len(eigval)):\n",
    "    CompEqSchrod=np.abs(np.matmul(H, eigvect[:, i])-eigval[i]*eigvect[:,i]) #Comparamos con la ecuación de Schrodinger\n",
    "    if (np.any(CompEqSchrod>1e-12)):\n",
    "        print(\"PROBLEMAS\")\n",
    "        print(CompEqSchrod)\n",
    "if DisplayNumericalValues:\n",
    "    print(eigvect)\n",
    "    #print(sum(eigvect[:,IndexEdgeEdge]**2))"
   ]
  },
  {
   "cell_type": "code",
   "execution_count": 275,
   "metadata": {
    "scrolled": true
   },
   "outputs": [
    {
     "data": {
      "image/png": "[encoded data removed]",
      "text/plain": [
       "<Figure size 864x648 with 1 Axes>"
      ]
     },
     "metadata": {
      "needs_background": "light"
     },
     "output_type": "display_data"
    }
   ],
   "source": [
    "#Calculamos la relación de Dispersión\n",
    "#IndexEdgeEdge, IndexBulkEdge, IndexBulkBulk, E_teorIndep, eigvectIndep=ComputeIndexes(N)\n",
    "a=np.linspace(0,len(eigval), len(eigval))\n",
    "#E_analytical_Dimer=np.asarray([2*ω+ U - np.sqrt(U**2+4*J1**2),2*ω+2*U,2*ω+ U + np.sqrt(U**2+4*J1**2) ])\n",
    "plt.figure(figsize=[12,9])\n",
    "if U==0:\n",
    "    IndexEdgeEdge, IndexBulkEdge, IndexBulkBulk, E_teorIndep, eigvectIndep=ComputeIndexes(N)\n",
    "    plt.scatter(a[IndexBulkBulk], eigval[IndexBulkBulk], color='red', label ='Bulk-Bulk States', zorder=10)\n",
    "    plt.scatter(a[IndexEdgeEdge], eigval[IndexEdgeEdge], color='blue', label='Edge-Edge States', zorder=10)\n",
    "    plt.scatter(a[IndexBulkEdge], eigval[IndexBulkEdge], color='black', label='Bulk-Edge States', zorder=10)\n",
    "else:\n",
    "    plt.scatter(a, eigval, color='red', label='Numerical energies')\n",
    "#plt.plot(a, E_teorIndep, color='black', label='Non interacting bosons')\n",
    "#plt.scatter(a, E_teorIndep, color='black', label='Non interacting bosons')\n",
    "#plt.plot(a, E_analytical_Dimer, color='blue', label='Analytical results for Dimer')\n",
    "plt.xlim(-10, 230)\n",
    "aplot=np.linspace(-10, 230, 10)\n",
    "#plt.savefig(\"DispersionRelation.png\")\n",
    "plt.ylabel(\"E\", size=15)\n",
    "plt.xlabel(\"Index of eigenvalue\", size=15)\n",
    "plt.fill_between(aplot, 2*J2-2*J1, 2*J2+2*J1, alpha=0.8, color='pink', zorder=0, label='Scattering bands')\n",
    "plt.fill_between(aplot, -2*J1, 2*J1, alpha=0.8, color='pink', zorder=0)\n",
    "plt.fill_between(aplot, -2*J2-2*J1, -2*J2+2*J1, alpha=0.8, color='pink', zorder=0)\n",
    "plt.fill_between(aplot, J1+J2, J2-J1, alpha=0.8, color='gray', zorder=0, label='Bulk-Edge bands')\n",
    "plt.fill_between(aplot, J1-J2, -J2-J1, alpha=0.8, color='gray', zorder=0)\n",
    "plt.legend()\n",
    "plt.show()\n",
    "#print(eigval.real)\n",
    "np.savetxt('energies.txt', eigval.real)"
   ]
  },
  {
   "cell_type": "code",
   "execution_count": 276,
   "metadata": {},
   "outputs": [],
   "source": [
    "#Transformamos los autovectores a sus componentes sobre la cadena real\n",
    "eigvecRealSpace=[[]]\n",
    "eigvecRealSpace=np.matmul(base.transpose(), eigvect)\n",
    "eigvecRealSpace=np.asarray(eigvecRealSpace)\n",
    "#Normalizamos los autovectores en la cadena real\n",
    "for j in range(n_eigval):\n",
    "    eigvecRealSpace[:, j]=eigvecRealSpace[:,j]/np.sqrt(sum(np.abs(eigvecRealSpace[:,j])**2))\n",
    "#print(np.sum(np.abs(eigvectIndep**2), axis = 0))"
   ]
  },
  {
   "cell_type": "code",
   "execution_count": 277,
   "metadata": {},
   "outputs": [
    {
     "name": "stdout",
     "output_type": "stream",
     "text": [
      "0.9644052102471053 0.34440629585228383\n",
      "-3.058534393912101 1.5259005135098591\n"
     ]
    },
    {
     "data": {
      "image/png": "[encoded data removed]",
      "text/plain": [
       "<Figure size 864x648 with 1 Axes>"
      ]
     },
     "metadata": {
      "needs_background": "light"
     },
     "output_type": "display_data"
    }
   ],
   "source": [
    "def PlotEigvect(i_Eig, eigvecRealSpace, eigvectIndep):\n",
    "    #Expresiones analíticas para N=2\n",
    "    \"\"\"α0=np.sqrt(J1**2/(U**2+4*J1**2+U*np.sqrt(U**2+4*J1**2)))\n",
    "    α2=np.sqrt(J1**2/(U**2+4*J1**2-U*np.sqrt(U**2+4*J1**2)))\n",
    "    γ0=(-U-np.sqrt(U**2+4*J1**2))/(np.sqrt(2)*J1)\n",
    "    γ2=(-U+np.sqrt(U**2+4*J1**2))/(np.sqrt(2)*J1)\n",
    "    ψB=np.asarray([[α0, α0*γ0, α0], [1/np.sqrt(2), 0, -1/np.sqrt(2)], [α2, α2*γ2, α2]])\n",
    "    ψBp=np.asarray([[2*α0+α0*γ0,2*α0+α0*γ0], [np.sqrt(2), -np.sqrt(2)], [2*α2+α2*γ2,2*α2+α2*γ2] ])\n",
    "    \"\"\"\n",
    "    aux_eig=(abs(eigvecRealSpace[:, i_Eig]))**2\n",
    "    x=np.arange(1, N+1, 1)\n",
    "    #analytical_eig_Dimer=(abs(ψBp[i_Eig, :]))**2\n",
    "    #xTeor=np.arange(0,L*len(analytical_eig_Dimer), 1)\n",
    "    #Separamos en las contribuciones en las dos sublattices\n",
    "    eigA= aux_eig[::2]\n",
    "    eigB=aux_eig[1::2]\n",
    "    minA=np.argmin(eigA)\n",
    "    minB=np.argmin(eigB)\n",
    "    maxA=np.argmax(eigA)\n",
    "    maxB=np.argmax(eigB)\n",
    "    xA=np.arange(1, L*len(eigvecRealSpace[:, 0])+1, 2 )\n",
    "    xB=np.arange(2, L*len(eigvecRealSpace[:, 0])+1, 2)\n",
    "    if maxA>minA:\n",
    "        eigAuxA=eigA[minA:maxA+1]\n",
    "        xAuxA=xA[minA:maxA+1]\n",
    "        mA, nA, trash, trash1, errA=linregress(xAuxA, np.log(eigAuxA))\n",
    "    else:\n",
    "        eigAuxA=eigA[maxA:minA+1]\n",
    "        xAuxA=xA[maxA:minA+1]\n",
    "        mA, nA, trash, trash1, errA=linregress(xAuxA, np.log(eigAuxA))\n",
    "    if maxB>minB:\n",
    "        eigAuxB=eigB[minB:maxB+1]\n",
    "        xAuxB=xB[minB:maxB+1]\n",
    "        mB, nB, trash, trash1, errB=linregress(xAuxB, np.log(eigAuxB))\n",
    "    else:\n",
    "        eigAuxB=eigB[maxB:minB+1]\n",
    "        xAuxB=xB[maxB:minB+1]\n",
    "        mB, nB, trash, trash1, errB=linregress(xAuxB, np.log(eigAuxB))\n",
    "    print(1/mA, errA/mA**2)\n",
    "    print(1/mB, errB/mB**2)\n",
    "    plt.figure(figsize=[12, 9])\n",
    "    plt.bar(xA, eigA, width=0.9,color='red', label='Sublattice A ', zorder=0)\n",
    "    plt.bar(xB, eigB, color='blue', width=0.9, label='Sublattice B ', zorder=0)\n",
    "    #plt.plot(xAuxA, np.exp(mA*xAuxA+nA), color='red', label='Exponential fit A')\n",
    "    #plt.plot(xAuxB, np.exp(mB*xAuxB+nB), color='blue', label='Exponential fit B')\n",
    "    #plt.scatter(x, (abs(eigvectIndep[:, i]))**2, zorder=10, color='black', s=35)\n",
    "    #plt.plot(xTeor, analytical_eig_Dimer, color='black', label='Analytical eigenvector')\n",
    "    plt.xlabel(\"$x$ Position on the chain\", size=15)\n",
    "    plt.ylabel(\"$|Ψ(x)|^2$\", size=15)\n",
    "    #plt.title(\"Eigenvector number \"+ str(i_Eig)+\" using J1=\"+ str(J1)+\" J2=\"+str(J2))\n",
    "    plt.savefig('EigenVector'+str(i_Eig)+'.png')\n",
    "    #plt.yscale('log')\n",
    "    plt.legend()\n",
    "    plt.show()\n",
    "\n",
    "aux=np.arange(190, 210, 1)\n",
    "#for i in aux:\n",
    "    #PlotEigvect(i, eigvecRealSpace, eigvectIndep)\n",
    "eigvectIndep=np.asarray([])\n",
    "#for i in aux:\n",
    "    #PlotEigvect(i, eigvecRealSpace, eigvectIndep)\n",
    "PlotEigvect(0, eigvecRealSpace, eigvectIndep)"
   ]
  },
  {
   "cell_type": "code",
   "execution_count": 278,
   "metadata": {},
   "outputs": [
    {
     "data": {
      "image/png": "[encoded data removed]",
      "text/plain": [
       "<Figure size 756x648 with 2 Axes>"
      ]
     },
     "metadata": {
      "needs_background": "light"
     },
     "output_type": "display_data"
    }
   ],
   "source": [
    "def PlotEigvect2D(i_Eig, eigvect):\n",
    "    EigV_i=(abs(eigvect[:, i_Eig]))**2\n",
    "    maxV=np.max(EigV_i)\n",
    "    minV=np.max(EigV_i)\n",
    "    eigvect2D=np.zeros((N, N))\n",
    "    counter=0\n",
    "    for i in range(N):\n",
    "        for j in range(i, N):\n",
    "            eigvect2D[i, j]=EigV_i[counter]\n",
    "            eigvect2D[j, i]=EigV_i[counter]\n",
    "            counter+=1\n",
    "    plt.figure(figsize=[10.5, 9])\n",
    "    plt.pcolor(eigvect2D)\n",
    "    cb= plt.colorbar()\n",
    "    cb.set_label(label=\"$|\\psi(x,y)|^2$\", size=15)\n",
    "    plt.xlabel(\"x\", size=15)\n",
    "    plt.ylabel(\"y\", size=15)\n",
    "    \"\"\"a=25\n",
    "    x=np.linspace(0, a, 100)\n",
    "    xa=np.linspace(0,20,100)\n",
    "    xaa=np.linspace(0, a/2, 100)\n",
    "    plt.plot(x, -x+a)\n",
    "    plt.plot(xa, xa)\n",
    "    plt.plot(a/2*np.ones(100),xaa)\"\"\"\n",
    "    #plt.title(\"Mapping of the 2-particle wavefunction to a 2D plot \\n Each of the axis represents the position on the lattice of one particle\")\n",
    "    plt.savefig(\"2DPlotEigvect\"+str(i_Eig)+\".png\")\n",
    "    plt.show()\n",
    "#for i in aux:\n",
    "PlotEigvect2D(199,  eigvect)"
   ]
  },
  {
   "cell_type": "code",
   "execution_count": 286,
   "metadata": {},
   "outputs": [
    {
     "data": {
      "image/png": "[encoded data removed]",
      "text/plain": [
       "<Figure size 864x576 with 1 Axes>"
      ]
     },
     "metadata": {
      "needs_background": "light"
     },
     "output_type": "display_data"
    },
    {
     "name": "stdout",
     "output_type": "stream",
     "text": [
      "Elementos del array, ordenados de menor a mayor PR\n",
      "[199 105 200  62  61  55  59 190 192  54 201 203 209 193 191 208 198 197\n",
      " 204  60 202 195 205  58 196 194 207 206  56  57 145 144  45  44  53  50\n",
      " 150  51 151  52 138  42 139 153  48  49 142  38 146 148 149  46  43 152\n",
      " 137  39 143 147  41 141 140 136  40  37  47  36  98  97 101  95  96 102\n",
      " 100  99 114  84 115  89  83 116  78 111 109 120  82  81  77  87 107 106\n",
      "  74  73 121  92 124  91 125 113  76 112  72 132 130 108  68  75 126 110\n",
      "  66  85 122 133  86 131  65  90  71  79  80  70  67  64  69 127  88 128\n",
      " 119 129 170 123  63 104 103  19 173 171 134 172  16  18 135  94  93  17\n",
      " 117 118  25 179 164  10 178 180 182  26  30  28 184   7 161   9  23  11\n",
      " 159   5  14 163 175 154   0 168  21  35 165  34  24 162 177  33  12 189\n",
      " 176   8  15 188 174 187   6  31 169 185  32 181 183  27 186  13  22 157\n",
      " 158 160 155   4   3  20 156  29 167   1   2 166]\n"
     ]
    },
    {
     "data": {
      "text/plain": [
       "'print(\"Participation Ratio\")\\nprint(InterestingEigVects)\\nprint(participation_ratio[InterestingEigVects])\\nprint(\"Number of occupied sites by the state\")\\nprint(NumberOccupiedSites[InterestingEigVects])'"
      ]
     },
     "execution_count": 286,
     "metadata": {},
     "output_type": "execute_result"
    }
   ],
   "source": [
    "N_eigvect=len(eigvect[0, :])\n",
    "participation_ratio=[]\n",
    "NumberOccupiedSites=[]\n",
    "participation_ratio = np.sum(np.abs(eigvect**2), axis = 0) / np.sum(np.abs(eigvect**4), axis = 0)\n",
    "participation_ratio=np.asarray(participation_ratio)\n",
    "NumberOccupiedSites=0.5*(np.sqrt(1+8*participation_ratio)-1)\n",
    "plt.figure(figsize=[12, 8])\n",
    "a=np.linspace(0,len(eigvect[0, :]),len(eigvect[0,:]))\n",
    "if U==0:\n",
    "    plt.scatter(eigval[IndexBulkBulk],participation_ratio[IndexBulkBulk], label='Bulk-Bulk States', color='red')\n",
    "    plt.scatter(eigval[IndexEdgeEdge],participation_ratio[IndexEdgeEdge], label='Edge-Edge States', color='blue')\n",
    "    plt.scatter(eigval[IndexBulkEdge],participation_ratio[IndexBulkEdge], label='Bulk-Edge States', color='black')\n",
    "else:\n",
    "    plt.scatter(eigval, participation_ratio, color='red')\n",
    "plt.xlabel(\"E\", size=15)\n",
    "plt.ylabel(\"PR\", size=15)\n",
    "ymax=110\n",
    "plt.fill_between(eigval, 0, ymax, where=(eigval>-2*J1-2*J2)&(eigval<-2*J2+2*J1), alpha=0.8, color='pink', zorder=0, label='Scattering bands')\n",
    "plt.fill_between(eigval, 0, ymax, where=(eigval>-2*J1)&(eigval<2*J1), alpha=0.8, color='pink', zorder=0)\n",
    "plt.fill_between(eigval, 0, ymax, where=(eigval>-2*J1+2*J2)&(eigval<2*J2+2*J1), alpha=0.8, color='pink', zorder=0)\n",
    "plt.fill_between(eigval, 0, ymax, where=(eigval>-J1+J2)&(eigval<J2+J1), alpha=0.8, color='gray', zorder=0, label='Bulk-Edge bands')\n",
    "plt.fill_between(eigval,  0, ymax, where=(eigval>-J1-J2)&(eigval<-J2+J1), alpha=0.8, color='gray', zorder=0)\n",
    "plt.ylim(0,110)\n",
    "#plt.title(\"Participation ratio as a function of the Energy of the eigenstate\")\n",
    "plt.legend()\n",
    "plt.savefig(\"participation_ratio.png\")\n",
    "plt.show()\n",
    "print(\"Elementos del array, ordenados de menor a mayor PR\")\n",
    "print(np.argsort(participation_ratio))\n",
    "#participation_ratio=np.asarray(participation_ratio)\n",
    "\"\"\"print(\"Participation Ratio\")\n",
    "print(InterestingEigVects)\n",
    "print(participation_ratio[InterestingEigVects])\n",
    "print(\"Number of occupied sites by the state\")\n",
    "print(NumberOccupiedSites[InterestingEigVects])\"\"\""
   ]
  },
  {
   "cell_type": "code",
   "execution_count": 280,
   "metadata": {},
   "outputs": [
    {
     "data": {
      "text/plain": [
       "'dummy=np.asarray([[5, 2, 10], [5, 3, 2]])\\nprint((dummy[0,:]*dummy[1, :]+ dummy[1, :]*dummy[0, :])/(np.sqrt(2)))'"
      ]
     },
     "execution_count": 280,
     "metadata": {},
     "output_type": "execute_result"
    }
   ],
   "source": [
    "\"\"\"dummy=np.asarray([[5, 2, 10], [5, 3, 2]])\n",
    "print((dummy[0,:]*dummy[1, :]+ dummy[1, :]*dummy[0, :])/(np.sqrt(2)))\"\"\""
   ]
  },
  {
   "cell_type": "code",
   "execution_count": 281,
   "metadata": {},
   "outputs": [
    {
     "name": "stdout",
     "output_type": "stream",
     "text": [
      "1.8206996859192197\n"
     ]
    }
   ],
   "source": [
    "print(participation_ratio[61])"
   ]
  },
  {
   "cell_type": "code",
   "execution_count": 282,
   "metadata": {},
   "outputs": [
    {
     "name": "stdout",
     "output_type": "stream",
     "text": [
      "41.89843525235762\n"
     ]
    }
   ],
   "source": [
    "print(np.mean(participation_ratio[IndexBulkBulk]))"
   ]
  },
  {
   "cell_type": "code",
   "execution_count": 283,
   "metadata": {},
   "outputs": [
    {
     "name": "stdout",
     "output_type": "stream",
     "text": [
      "17\n"
     ]
    }
   ],
   "source": [
    "print(np.argmin(participation_ratio[IndexBulkEdge]))"
   ]
  },
  {
   "cell_type": "code",
   "execution_count": 284,
   "metadata": {},
   "outputs": [
    {
     "name": "stdout",
     "output_type": "stream",
     "text": [
      "[199 105 200  62  61 190 191 203 209 201  54 193  59  55 192 208 197 195\n",
      " 202 204 205  60 198  58 194  57  56 196 206 207 145 144  45  48 150 139\n",
      " 151 138  53  52  51  50  42  49  44 153 142  47  46  43  41  40  39  38\n",
      "  37  36 140 141 143 146 147 148 149  98 137 152 136  97 106 121 120 107\n",
      " 124  73  74 102 101  77  78 100 116  81  82  83  84  99 125  87 115  89\n",
      " 114  91  92 109 111  95  96 113  86  85 133  76  75  72 132  68 122  66\n",
      " 108 130 110 126 112 131  90  88  80  79  71 119  70  69  67 123  64  63\n",
      " 170 127 128 129  65 104 118 117 134 135   1 103  94  93  35  34  33  32\n",
      "  31  30  29  28  27  26  25  24  23  22 154 155 156 157 158 159 160 161\n",
      " 162 163 164 165 166 167 168 169  21 171 172 173 174 175 176 177 178 179\n",
      " 180 181 182 183 184 185 186 187 188 189  20  19  18  17  16  15  14  13\n",
      "  12  11  10   9   8   7   6   5   4   3   2   0]\n"
     ]
    }
   ],
   "source": [
    "print(np.argpartition(participation_ratio, 3))"
   ]
  },
  {
   "cell_type": "code",
   "execution_count": 285,
   "metadata": {},
   "outputs": [
    {
     "name": "stdout",
     "output_type": "stream",
     "text": [
      "-1.0028909392930716 -0.6710003342525533\n"
     ]
    }
   ],
   "source": [
    "print(eigval[45], eigval[62])"
   ]
  },
  {
   "cell_type": "code",
   "execution_count": null,
   "metadata": {},
   "outputs": [],
   "source": []
  }
 ],
 "metadata": {
  "kernelspec": {
   "display_name": "Python 3",
   "language": "python",
   "name": "python3"
  },
  "language_info": {
   "codemirror_mode": {
    "name": "ipython",
    "version": 3
   },
   "file_extension": ".py",
   "mimetype": "text/x-python",
   "name": "python",
   "nbconvert_exporter": "python",
   "pygments_lexer": "ipython3",
   "version": "3.7.4"
  }
 },
 "nbformat": 4,
 "nbformat_minor": 2
}
