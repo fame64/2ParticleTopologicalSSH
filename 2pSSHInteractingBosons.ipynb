{
 "cells": [
  {
   "cell_type": "markdown",
   "metadata": {},
   "source": [
    "# Two excitation limit SSH Model\n",
    "Now the Hamiltonian is of the form:\n",
    "$$H=H_{SSH}+H_{int}$$\n",
    "Where the Hamiltonian of the interaction is:\n",
    "$$H_{int}=\\frac{1}{2}\\sum_i U a_i^\\dagger a_i^\\dagger a_i a_i=\\frac{1}{2}\\sum_i U n_i(n_i-1)  $$\n",
    "The basis in which we will be working is:\n",
    "$$\\mathfrak{B}=\\left\\{ |10 \\cdots 010 \\cdots \\rangle , |020\\cdots 0\\rangle, \\cdots \\right\\}$$\n",
    "Where the first ket represents a bosonic excitation in the first cell and another in the i-th cell, the second ket represents the two bosons in the second cell.\n",
    "\n",
    "As the particles with which we are working are bosons there can be two of them in the same state."
   ]
  },
  {
   "cell_type": "markdown",
   "metadata": {},
   "source": [
    "First we will study the Bose-Hubbard dimer, two particles, with hopping $J$ between them and repulsion energy $U$."
   ]
  },
  {
   "cell_type": "code",
   "execution_count": 1,
   "metadata": {},
   "outputs": [],
   "source": [
    "DisplayNumericalValues=False\n",
    "#With Numba I can calculate all about a n=50 chain in 2:30 minutes!!!!!!"
   ]
  },
  {
   "cell_type": "code",
   "execution_count": 2,
   "metadata": {},
   "outputs": [],
   "source": [
    "from sympy.interactive import printing\n",
    "printing.init_printing(use_latex = True)\n",
    "\n",
    "import numpy as np\n",
    "import sympy as sp\n",
    "import scipy as sc\n",
    "from scipy.misc import derivative\n",
    "from sympy import *\n",
    "from numpy.linalg import eig\n",
    "from numpy import sin\n",
    "from numpy import pi\n",
    "from sympy import Array\n",
    "from sympy.matrices import Matrix\n",
    "import matplotlib.pyplot as plt\n",
    "from mpl_toolkits import mplot3d\n",
    "import matplotlib.gridspec as gs\n",
    "import numba\n",
    "from numba.types import *\n",
    "from numba import prange\n",
    "\n",
    "from scipy.optimize import curve_fit\n",
    "from scipy.stats import linregress\n",
    "import matplotlib\n",
    "matplotlib.rcParams['mathtext.fontset'] = 'stix'\n",
    "matplotlib.rcParams['font.family'] = 'STIXGeneral'\n",
    "matplotlib.rcParams['font.size']=23"
   ]
  },
  {
   "cell_type": "code",
   "execution_count": 3,
   "metadata": {},
   "outputs": [],
   "source": [
    "#Here we consider m=1, ħ=1 and a lattice with distance L=1\n",
    "L=1\n",
    "N=20\n",
    "J1=1\n",
    "J2=1.5\n",
    "JM=max(J1, J2)\n",
    "Jm=min(J1, J2)\n",
    "U=8*JM\n",
    "ω=10\n",
    "weight=0.01"
   ]
  },
  {
   "cell_type": "code",
   "execution_count": 4,
   "metadata": {},
   "outputs": [],
   "source": [
    "@numba.jit(numba.types.Tuple((float64, float64))(float64), nopython = True, parallel = False)\n",
    "def a(n):\n",
    "    if n == 0:\n",
    "        return (0,0)\n",
    "    else:\n",
    "        return (n-1, np.sqrt(n))\n",
    "\n",
    "@numba.jit(numba.types.Tuple((float64, float64))(float64), nopython = True, parallel = False)\n",
    "def a_plus(n):\n",
    "\n",
    "    return (n+1, np.sqrt(n+1))"
   ]
  },
  {
   "cell_type": "code",
   "execution_count": 5,
   "metadata": {},
   "outputs": [],
   "source": [
    "@numba.jit(float64(float64[:],float64[:]), nopython = True, parallel = False)\n",
    "def bracket(bra1, ket1):\n",
    "    if np.all(bra1 == ket1):\n",
    "        return 1\n",
    "    else:\n",
    "        return 0\n",
    "    #print(\"Subalgoritmo bra-ket\")\n",
    "    #print(bra1, ket1)\n",
    "    #print(resultado)"
   ]
  },
  {
   "cell_type": "code",
   "execution_count": 6,
   "metadata": {},
   "outputs": [],
   "source": [
    "#@numba.jit(float64[:](int32[:], float64), nopython=True, fastmath=True, parallel=False)\n",
    "def func(x, λ, A):\n",
    "    return ((x-A)/λ)"
   ]
  },
  {
   "cell_type": "code",
   "execution_count": 7,
   "metadata": {},
   "outputs": [],
   "source": [
    "#Este subalgoritmo calcula un elemento de matriz con un Hamiltoniano \n",
    "@numba.jit(float64(float64[:],float64[:],float64, int64, float64), nopython = True, parallel = False)\n",
    "def Elemento_matriz_Hamiltoniano(bra, ket, U, N, ω):\n",
    "    #print(bra,ket)\n",
    "    #<bra|H|ket>\n",
    "    n_eigval=N*(N+1)/2\n",
    "    H=0\n",
    "\n",
    "    ket_aux = np.empty(len(ket))\n",
    "    ket_aux2 = np.empty(len(ket))\n",
    "    bra_aux = np.empty(len(ket))\n",
    "\n",
    "    bracket1 = bracket(bra, ket)\n",
    "\n",
    "    H += np.sum(ω*ket*bracket1)\n",
    "    H += np.sum(0.5*U*ket*(ket-1)*bracket1)\n",
    "    \n",
    "    ket_aux[:] = ket\n",
    "    ket_aux2[:] = ket\n",
    "    bra_aux[:] = bra\n",
    "    if (N-1)%2==0:\n",
    "        J=-J1\n",
    "    else:\n",
    "        J=-J2\n",
    "    #P.B.C.\n",
    "    #ket_aux[0], coef_term2=a(ket_aux[0])\n",
    "    #H.B.C.\n",
    "    ket_aux[0], coef_term2=0,0\n",
    "    ket_aux[N-1], coef_term2_aux=a_plus(ket_aux[N-1])\n",
    "    term2 = J*coef_term2*coef_term2_aux*bracket(bra_aux, ket_aux)\n",
    "    ket_aux2[N-1], coef_term3=a(ket_aux2[N-1])\n",
    "    #P.B.C.\n",
    "    #ket_aux2[0], coef_term3_aux=a_plus(ket_aux2[0])\n",
    "    #H.B.C.\n",
    "    ket_aux2[0], coef_term3_aux=0,0\n",
    "    term3=(J)*coef_term3*coef_term3_aux*bracket(bra_aux, ket_aux2)\n",
    "    H+=term2+term3\n",
    "    for i in range(len(ket)-1):\n",
    "            ket_aux[:] = ket\n",
    "            ket_aux2[:] = ket\n",
    "            bra_aux[:] = bra\n",
    "            #print(\"El valor de bra en el subalgoritmo\")\n",
    "            #print(bra)\n",
    "            #coef_term2=coef_term2_aux=coef_term3=coef_term3_aux=0\n",
    "            if i%2==0:\n",
    "                J=-J1\n",
    "            else:\n",
    "                J=-J2\n",
    "            \n",
    "            #print(\"Entro en el else\")\n",
    "            ket_aux[i+1], coef_term2 = a(ket_aux[i+1])\n",
    "            ket_aux[i], coef_term2_aux=a_plus(ket_aux[i])\n",
    "            term2=J*coef_term2*coef_term2_aux*bracket(bra_aux, ket_aux)\n",
    "            ket_aux2[i], coef_term3=a(ket_aux2[i])\n",
    "            ket_aux2[i+1], coef_term3_aux=a_plus(ket_aux2[i+1])\n",
    "            term3=(J)*coef_term3*coef_term3_aux*bracket(bra_aux, ket_aux2)\n",
    "\n",
    "            #print(term2, term3)\n",
    "            H+=term2+term3\n",
    "    #print(\"\\n\")\n",
    "    return H"
   ]
  },
  {
   "cell_type": "code",
   "execution_count": 8,
   "metadata": {},
   "outputs": [],
   "source": [
    "Identity=np.identity(N)\n",
    "n_eigval=int(N*(N+1)/2)\n",
    "base=np.empty((n_eigval, N))\n",
    "counter=0\n",
    "for l in range(N):\n",
    "    for k in range(l,N):\n",
    "        ketB=Identity[k,:]+Identity[l,:]\n",
    "        #print(ketB)\n",
    "        base[counter, :]=ketB\n",
    "        counter+=1\n",
    "if DisplayNumericalValues:\n",
    "    for i in range(len(base[:,0])):\n",
    "        print((base[i,:]))\n",
    "        \n",
    "n_eigval=int(N*(N+1)/2)\n",
    "if ω==0:\n",
    "    ω_array=(2*weight*(np.random.rand(N)-0.5))\n",
    "else:\n",
    "    ω_array=ω*(1+2*weight*(np.random.rand(N)-0.5))\n",
    "ω_matrix=np.zeros((n_eigval, n_eigval))\n",
    "counter=0\n",
    "for l in range(N):\n",
    "    for k in range(l,N):\n",
    "        ω_matrix[counter, counter]=(ω_array[l]+ω_array[k])/2\n",
    "        counter+=1"
   ]
  },
  {
   "cell_type": "code",
   "execution_count": 9,
   "metadata": {},
   "outputs": [],
   "source": [
    "@numba.jit(float64[:,:](float64,float64[:,:], int64), nopython = True, parallel = False)\n",
    "def ComputeH(U,base, N):\n",
    "    H = np.empty((n_eigval,n_eigval))\n",
    "    for i2 in range(n_eigval):\n",
    "        for j2 in range(n_eigval):\n",
    "            H[i2,j2]=Elemento_matriz_Hamiltoniano(base[i2],base[j2], U, N, ω_matrix[i2, j2])\n",
    "    return H"
   ]
  },
  {
   "cell_type": "code",
   "execution_count": 10,
   "metadata": {},
   "outputs": [],
   "source": [
    "@numba.jit(float64[:, :](int64, float64, float64), nopython=True, parallel=False)\n",
    "def FastHamiltonian(N, J1, J2):\n",
    "    #Manera rapida de calcular el Hamiltoniano\n",
    "    aux_N=int(N/2) #Numero de celdas\n",
    "    H_int1=np.asarray([[0, 1], [1, 0]])\n",
    "    aux1=np.kron(np.eye(aux_N), H_int1)\n",
    "    aux2=np.eye(N, k=1)+np.eye(N, k=-1)-aux1\n",
    "    aux3=np.zeros((N, N))\n",
    "    for i in range(N):\n",
    "        aux3[i, i]=ω_array[i]\n",
    "    H=J1*aux1+J2*aux2+aux3\n",
    "    #print(H)\n",
    "    return H"
   ]
  },
  {
   "cell_type": "code",
   "execution_count": 11,
   "metadata": {},
   "outputs": [],
   "source": [
    "@numba.jit(numba.types.Tuple((int64[:], int64[:], int64[:], float64[:], float64[:, :]))(int64), nopython = True, parallel = False)\n",
    "def ComputeIndexes(N):    \n",
    "    H1p=FastHamiltonian(N, J1, J2)\n",
    "    eigval1p, eigvect1p=eig(H1p)\n",
    "    idx1p = np.argsort(eigval1p)\n",
    "    eigval1p = eigval1p[idx1p]\n",
    "    eigvect1p=eigvect1p[:, idx1p]\n",
    "    \n",
    "    if DisplayNumericalValues:\n",
    "        print(eigval1p)\n",
    "    eigvalNeg=eigval1p[:int(N/2)]\n",
    "    if J2>J1:\n",
    "        InterestingIndex=np.argmax(eigvalNeg)\n",
    "    else:\n",
    "        InterestingIndex=-100000\n",
    "    E_teorIndep=[]\n",
    "    eigvect_teorIndep=np.empty((N, n_eigval))\n",
    "    NumberIterations=0\n",
    "    IndexEdgeEdge=[]\n",
    "    IndexBulkEdge=[]\n",
    "    counter=0\n",
    "    #Edge_Edge_Energies=[2*eigval1p[InterestingIndex], eigval1p[InterestingIndex]+ eigval1p[InterestingIndex+1], 2*eigval1p[InterestingIndex+1]]\n",
    "    for i in range(N):\n",
    "        for j in range (i,N):\n",
    "            E_teorIndep.append(eigval1p[i]+eigval1p[j])\n",
    "            eigvect_teorIndep[:, counter]=(eigvect1p[:, i]*eigvect1p[:, j]+eigvect1p[:, j]*eigvect1p[:, i])/(np.sqrt(np.sum(np.abs((eigvect1p[:, i]*eigvect1p[:, j]+eigvect1p[:, j]*eigvect1p[:, i])**2))))\n",
    "            if i== InterestingIndex or i==InterestingIndex+1:\n",
    "                if j== InterestingIndex or j==InterestingIndex+1:\n",
    "                    IndexEdgeEdge.append(counter)\n",
    "                else:\n",
    "                    IndexBulkEdge.append(counter)\n",
    "            else:\n",
    "                if j== InterestingIndex or j==InterestingIndex+1:\n",
    "                    IndexBulkEdge.append(counter)\n",
    "            counter+=1\n",
    "    E_teorIndep=np.asarray(E_teorIndep)\n",
    "    idx=np.argsort(E_teorIndep)\n",
    "    E_teorIndep=E_teorIndep[idx]\n",
    "    eigvect_teorIndep=eigvect_teorIndep[:, idx]\n",
    "    for i in range(len(IndexEdgeEdge)):\n",
    "        IndexEdgeEdge[i]=np.argmin(np.abs(idx-IndexEdgeEdge[i]))\n",
    "    for i in range(len(IndexBulkEdge)):\n",
    "        IndexBulkEdge[i]=np.argmin(np.abs(idx-IndexBulkEdge[i]))\n",
    "    IndexBulkBulk=[]\n",
    "    for k in range(len(E_teorIndep)):\n",
    "        if k in IndexBulkEdge :\n",
    "            dummy=1\n",
    "        elif k in IndexEdgeEdge:\n",
    "            dummy=2\n",
    "        else:\n",
    "            IndexBulkBulk.append(k)\n",
    "    IndexEdgeEdge=np.asarray(IndexEdgeEdge)\n",
    "    IndexBulkEdge=np.asarray(IndexBulkEdge)\n",
    "    IndexBulkBulk=np.asarray(IndexBulkBulk)\n",
    "    #print(IndexEdgeEdge)\n",
    "    #print(out)\n",
    "    return (IndexEdgeEdge, IndexBulkEdge, IndexBulkBulk, E_teorIndep, eigvect_teorIndep)"
   ]
  },
  {
   "cell_type": "code",
   "execution_count": 12,
   "metadata": {},
   "outputs": [],
   "source": [
    "#Calculamos la matriz del Hamiltoniano\n",
    "H=ComputeH(U, base, N)\n",
    "if DisplayNumericalValues:\n",
    "    print(H)"
   ]
  },
  {
   "cell_type": "code",
   "execution_count": 13,
   "metadata": {},
   "outputs": [],
   "source": [
    "#Sacamos autovalores y autovectores del Hamiltoniano\n",
    "eigval, eigvect=eig(H)\n",
    "idx = np.argsort(eigval) #Ordenamos los autovalores y autovectores\n",
    "eigval = eigval[idx]\n",
    "eigvect=eigvect[:,idx]\n",
    "for i in range(len(eigval)):\n",
    "    CompEqSchrod=np.abs(np.matmul(H, eigvect[:, i])-eigval[i]*eigvect[:,i]) #Comparamos con la ecuación de Schrodinger\n",
    "    if (np.any(CompEqSchrod>1e-12)):\n",
    "        print(\"PROBLEMAS\")\n",
    "        print(CompEqSchrod)\n",
    "if DisplayNumericalValues:\n",
    "    print(eigvect)\n",
    "    #print(sum(eigvect[:,IndexEdgeEdge]**2))"
   ]
  },
  {
   "cell_type": "code",
   "execution_count": 14,
   "metadata": {
    "scrolled": true
   },
   "outputs": [
    {
     "data": {
      "image/png": "[encoded data removed]",
      "text/plain": [
       "<Figure size 576x432 with 1 Axes>"
      ]
     },
     "metadata": {
      "needs_background": "light"
     },
     "output_type": "display_data"
    }
   ],
   "source": [
    "#Calculamos la relación de Dispersión\n",
    "#IndexEdgeEdge, IndexBulkEdge, IndexBulkBulk, E_teorIndep, eigvectIndep=ComputeIndexes(N)\n",
    "a=np.linspace(0,len(eigval), len(eigval))\n",
    "#E_analytical_Dimer=np.asarray([2*ω+ U - np.sqrt(U**2+4*J1**2),2*ω+2*U,2*ω+ U + np.sqrt(U**2+4*J1**2) ])\n",
    "plt.figure(figsize=[8, 6])\n",
    "if U==0:\n",
    "    IndexEdgeEdge, IndexBulkEdge, IndexBulkBulk, E_teorIndep, eigvectIndep=ComputeIndexes(N)\n",
    "    plt.scatter(a[IndexBulkBulk], eigval[IndexBulkBulk],s=8, color='red', label ='Bulk-Bulk States', zorder=10)\n",
    "    plt.scatter(a[IndexEdgeEdge], eigval[IndexEdgeEdge], s=8,color='blue', label='Edge-Edge States', zorder=10)\n",
    "    plt.scatter(a[IndexBulkEdge], eigval[IndexBulkEdge],s=8,  color='black', label='Bulk-Edge States', zorder=10)\n",
    "else:\n",
    "    plt.scatter(a, eigval, color='red', label='Numerical energies')\n",
    "#plt.plot(a, E_teorIndep, color='black', label='Non interacting bosons')\n",
    "#plt.scatter(a, E_teorIndep, color='black', label='Non interacting bosons')\n",
    "#plt.plot(a, E_analytical_Dimer, color='blue', label='Analytical results for Dimer')\n",
    "plt.xlim(-10, 230)\n",
    "aplot=np.linspace(-10, 230, 10)\n",
    "#plt.savefig(\"DispersionRelation.png\")\n",
    "plt.ylabel(\"$E/J$\")\n",
    "plt.xlabel(\"Index of eigenvalue\")\n",
    "#plt.fill_between(aplot, -4, 4, alpha=0.8, color='pink', zorder=0, label='Scattering Band')\n",
    "plt.fill_between(aplot, 2*J2-2*J1, 2*J2+2*J1, alpha=0.8, color='pink', zorder=0, label='Scattering bands')\n",
    "plt.fill_between(aplot, -2*J1, 2*J1, alpha=0.8, color='pink', zorder=0)\n",
    "plt.fill_between(aplot, -2*J2-2*J1, -2*J2+2*J1, alpha=0.8, color='pink', zorder=0)\n",
    "plt.fill_between(aplot, J1+J2, J2-J1, alpha=0.8, color='gray', zorder=0, label='Bulk-Edge bands')\n",
    "plt.fill_between(aplot, J1-J2, -J2-J1, alpha=0.8, color='gray', zorder=0)\n",
    "plt.legend()\n",
    "plt.show()\n",
    "#print(eigval.real)\n",
    "np.savetxt('energiesU5.txt', np.column_stack([a,eigval]))"
   ]
  },
  {
   "cell_type": "code",
   "execution_count": 15,
   "metadata": {},
   "outputs": [],
   "source": [
    "#Transformamos los autovectores a sus componentes sobre la cadena real\n",
    "eigvecRealSpace=[[]]\n",
    "eigvecRealSpace=np.matmul(base.transpose(), eigvect)\n",
    "eigvecRealSpace=np.asarray(eigvecRealSpace)\n",
    "#Normalizamos los autovectores en la cadena real\n",
    "for j in range(n_eigval):\n",
    "    eigvecRealSpace[:, j]=eigvecRealSpace[:,j]/np.sqrt(sum(np.abs(eigvecRealSpace[:,j])**2))\n",
    "#print(np.sum(np.abs(eigvectIndep**2), axis = 0))"
   ]
  },
  {
   "cell_type": "code",
   "execution_count": 16,
   "metadata": {},
   "outputs": [
    {
     "name": "stdout",
     "output_type": "stream",
     "text": [
      "2.1985764805385077 0.3991744895614523\n"
     ]
    },
    {
     "data": {
      "image/png": "[encoded data removed]",
      "text/plain": [
       "<Figure size 360x216 with 1 Axes>"
      ]
     },
     "metadata": {
      "needs_background": "light"
     },
     "output_type": "display_data"
    }
   ],
   "source": [
    "def PlotEigvect(i_Eig, eigvecRealSpace, eigvectIndep, auxpos):\n",
    "    #Expresiones analíticas para N=2\n",
    "    \"\"\"α0=np.sqrt(J1**2/(U**2+4*J1**2+U*np.sqrt(U**2+4*J1**2)))\n",
    "    α2=np.sqrt(J1**2/(U**2+4*J1**2-U*np.sqrt(U**2+4*J1**2)))\n",
    "    γ0=(-U-np.sqrt(U**2+4*J1**2))/(np.sqrt(2)*J1)\n",
    "    γ2=(-U+np.sqrt(U**2+4*J1**2))/(np.sqrt(2)*J1)\n",
    "    ψB=np.asarray([[α0, α0*γ0, α0], [1/np.sqrt(2), 0, -1/np.sqrt(2)], [α2, α2*γ2, α2]])\n",
    "    ψBp=np.asarray([[2*α0+α0*γ0,2*α0+α0*γ0], [np.sqrt(2), -np.sqrt(2)], [2*α2+α2*γ2,2*α2+α2*γ2] ])\n",
    "    \"\"\"\n",
    "    aux_eig=(abs(eigvecRealSpace[:, i_Eig]))**2\n",
    "    x=np.arange(1, N+1, 1)\n",
    "    #analytical_eig_Dimer=(abs(ψBp[i_Eig, :]))**2\n",
    "    #xTeor=np.arange(0,L*len(analytical_eig_Dimer), 1)\n",
    "    #Separamos en las contribuciones en las dos sublattices\n",
    "    eigA= aux_eig[::2]\n",
    "    eigB=aux_eig[1::2]\n",
    "    minA=np.argmin(eigA)\n",
    "    minB=np.argmin(eigB)\n",
    "    maxA=np.argmax(eigA)\n",
    "    maxB=np.argmax(eigB)\n",
    "    xA=np.arange(1, L*len(eigvecRealSpace[:, 0])+1, 2 )\n",
    "    xB=np.arange(2, L*len(eigvecRealSpace[:, 0])+1, 2)\n",
    "    if maxA>minA:\n",
    "        eigAuxA=eigA[minA:maxA+1]\n",
    "        xAuxA=xA[minA:maxA+1]\n",
    "        mA, nA, trash, trash1, errA=linregress(xAuxA, np.log(eigAuxA))\n",
    "    else:\n",
    "        eigAuxA=eigA[maxA:minA+1]\n",
    "        xAuxA=xA[maxA:minA+1]\n",
    "        mA, nA, trash, trash1, errA=linregress(xAuxA, np.log(eigAuxA))\n",
    "    if maxB>minB:\n",
    "        eigAuxB=eigB[minB:maxB+1]\n",
    "        xAuxB=xB[minB:maxB+1]\n",
    "        mB, nB, trash, trash1, errB=linregress(xAuxB, np.log(eigAuxB))\n",
    "    else:\n",
    "        eigAuxB=eigB[maxB:minB+1]\n",
    "        xAuxB=xB[maxB:minB+1]\n",
    "        mB, nB, trash, trash1, errB=linregress(xAuxB, np.log(eigAuxB))\n",
    "    plt.figure(figsize=[5, 3])\n",
    "    #plt.subplot2grid((3,6), auxpos)\n",
    "    plt.bar(xA, eigA, width=0.9,color='red', label='Sublattice A ', zorder=0)\n",
    "    plt.bar(xB, eigB, color='blue', width=0.9, label='Sublattice B ', zorder=0)\n",
    "    if np.sign(mA)==np.sign(mB):\n",
    "        m=(mA+mB)/2\n",
    "        n=(nA+nB)/2\n",
    "        #plt.plot(x, np.exp(m*x+n), color='black', label='Exponential fit')\n",
    "        #if m>0:\n",
    "            #plt.text(3, 0.1, r\"$\\xi=$\"+\"%.2f\" % (1/m))\n",
    "        #else:\n",
    "            #plt.text(N-6, 0.1, r\"$\\xi=$\"+\"%.2f\" % (1/m))\n",
    "        print(1/m, np.sqrt((errA/mA**2)**2+(errB/mB**2)**2))\n",
    "    else:\n",
    "        plt.plot(xAuxA, np.exp(mA*xAuxA+nA), color='red', label='Exponential fit A')\n",
    "        plt.plot(xAuxB, np.exp(mB*xAuxB+nB), color='blue', label='Exponential fit B')\n",
    "        m=(np.abs(mA)+np.abs(mB))/2\n",
    "        plt.text(8, 0.05, r\"$\\xi=\\pm$\"+\"%.2f\" % (1/m))\n",
    "        print(1/mA, errA/mA**2)\n",
    "        print(1/mB, errB/mB**2)\n",
    "    #plt.scatter(x, (abs(eigvectIndep[:, i]))**2, zorder=10, color='black', s=35)\n",
    "    #plt.plot(xTeor, analytical_eig_Dimer, color='black', label='Analytical eigenvector')\n",
    "    plt.xlabel(\"$x$\")\n",
    "    plt.ylabel(\"$| \\psi(x)|^2$\")\n",
    "    #plt.title(\"Eigenvector number \"+ str(i_Eig)+\" using J1=\"+ str(J1)+\" J2=\"+str(J2))\n",
    "    plt.savefig('EigenVector'+str(i_Eig)+'.png')\n",
    "    plt.yscale('log')\n",
    "    #plt.legend()\n",
    "    plt.show()\n",
    "\n",
    "aux=np.arange(190, 210, 1)\n",
    "#for i in aux:\n",
    "    #PlotEigvect(i, eigvecRealSpace, eigvectIndep)\n",
    "eigvectIndep=np.asarray([])\n",
    "#for i in aux:\n",
    "    #PlotEigvect(i, eigvecRealSpace, eigvectIndep)\n",
    "dummy=0\n",
    "PlotEigvect(190, eigvecRealSpace, eigvectIndep, dummy)"
   ]
  },
  {
   "cell_type": "code",
   "execution_count": 22,
   "metadata": {},
   "outputs": [
    {
     "data": {
      "image/png": "[encoded data removed]",
      "text/plain": [
       "<Figure size 216x216 with 2 Axes>"
      ]
     },
     "metadata": {
      "needs_background": "light"
     },
     "output_type": "display_data"
    }
   ],
   "source": [
    "def PlotEigvect2D(i_Eig, eigvect, auxpos):\n",
    "    EigV_i=(abs(eigvect[:, i_Eig]))**2\n",
    "    maxV=np.max(EigV_i)\n",
    "    minV=np.max(EigV_i)\n",
    "    eigvect2D=np.zeros((N, N))\n",
    "    counter=0\n",
    "    for i in range(N):\n",
    "        for j in range(i, N):\n",
    "            eigvect2D[i, j]=EigV_i[counter]\n",
    "            eigvect2D[j, i]=EigV_i[counter]\n",
    "            counter+=1\n",
    "    fig=plt.figure(figsize=[3,3])\n",
    "    #plt.subplot2grid((3,6), auxpos)\n",
    "    plt.gca().set_aspect('equal')\n",
    "    plt.pcolor(eigvect2D)\n",
    "    cb= plt.colorbar()\n",
    "    cb.set_label(label=r'$|\\psi(x,y)|^2$')\n",
    "    plt.xlabel(\"x\")\n",
    "    plt.ylabel(\"y\")\n",
    "    \"\"\"a=25\n",
    "    x=np.linspace(0, a, 100)\n",
    "    xa=np.linspace(0,20,100)\n",
    "    xaa=np.linspace(0, a/2, 100)\n",
    "    plt.plot(x, -x+a)\n",
    "    plt.plot(xa, xa)\n",
    "    plt.plot(a/2*np.ones(100),xaa)\"\"\"\n",
    "    #fig.tick_params(label_size=15)\n",
    "    #plt.title(\"Mapping of the 2-particle wavefunction to a 2D plot \\n Each of the axis represents the position on the lattice of one particle\")\n",
    "    plt.savefig(\"2DPlotEigvect\"+str(i_Eig)+\".png\")\n",
    "    plt.show()\n",
    "#for i in aux:\n",
    "dummy=1\n",
    "PlotEigvect2D( 200 ,  eigvect, dummy)"
   ]
  },
  {
   "cell_type": "code",
   "execution_count": 18,
   "metadata": {},
   "outputs": [
    {
     "data": {
      "image/png": "[encoded data removed]",
      "text/plain": [
       "<Figure size 576x432 with 1 Axes>"
      ]
     },
     "metadata": {
      "needs_background": "light"
     },
     "output_type": "display_data"
    },
    {
     "name": "stdout",
     "output_type": "stream",
     "text": [
      "Elementos del array, ordenados de menor a mayor PR\n",
      "[200 193 207 191 196 208 199  99 205 209 194 204 198 190 206 195 197 202\n",
      " 203 192 201 139 128 142 149 146 145 135 120 133 126 148 118 153 159  40\n",
      " 154  35  39  54  41  97 156  37  32 151  44  92  43  45 155  61  50  96\n",
      "  94  95  73  93  64  49  98  85  33  91  84  69 125  34  86 104  52  57\n",
      "  80  46 144  78  62  81  22 170 124  19 115 106 108 167 137  76  74 112\n",
      "  16  66 173  56 127 175  77  83 114 107  63  51 103  70 102  58 117  15\n",
      " 178  59 113 166 132 100 119  17  65 123 174 163  47 136 129 182  55  82\n",
      " 138 187 186 179 116 180  11 130 177 160 181 131 172 176 188 110 157  23\n",
      " 105 140  31  24   8 122  38  72  75   0  79  48 183  67 101   5 184 185\n",
      " 161 164  90  89  10  68 109  42 147  14 150  88   7 141 111  12  27 152\n",
      "  71   4   6  29  28  26  87   9  53  13 158 169   1  25 162  30 121 189\n",
      " 171  36  20 143  21   2   3 134  18 168 165  60]\n",
      "2.025508950607838\n"
     ]
    },
    {
     "data": {
      "text/plain": [
       "'print(\"Participation Ratio\")\\nprint(InterestingEigVects)\\nprint(participation_ratio[InterestingEigVects])\\nprint(\"Number of occupied sites by the state\")\\nprint(NumberOccupiedSites[InterestingEigVects])'"
      ]
     },
     "execution_count": 18,
     "metadata": {},
     "output_type": "execute_result"
    }
   ],
   "source": [
    "N_eigvect=len(eigvect[0, :])\n",
    "participation_ratio=[]\n",
    "NumberOccupiedSites=[]\n",
    "participation_ratio = np.sum(np.abs(eigvect**2), axis = 0) / np.sum(np.abs(eigvect**4), axis = 0)\n",
    "participation_ratio=np.asarray(participation_ratio)\n",
    "NumberOccupiedSites=0.5*(np.sqrt(1+8*participation_ratio)-1)\n",
    "plt.figure(figsize=[8, 6])\n",
    "#gs.GridSpec(3,6)\n",
    "#plt.subplot2grid((6,6), (0,0), rowspan=3, colspan=3)\n",
    "a=np.linspace(0,len(eigvect[0, :]),len(eigvect[0,:]))\n",
    "if U==0:\n",
    "    plt.scatter(eigval[IndexBulkBulk],participation_ratio[IndexBulkBulk], s=10, label='B-B states', color='red')\n",
    "    plt.scatter(eigval[IndexEdgeEdge],participation_ratio[IndexEdgeEdge], s=10, label='E-E states', color='blue')\n",
    "    plt.scatter(eigval[IndexBulkEdge],participation_ratio[IndexBulkEdge], s=10, label='B-E states', color='black')\n",
    "else:\n",
    "    ScatteringIndex=[]\n",
    "    BEIndex=[]\n",
    "    DoublIndex=[]\n",
    "    UnstDoublIndex=[]\n",
    "    #eigval=eigval-2*ω\n",
    "    \"\"\"for i in range(len(eigval)):\n",
    "        if (eigval[i]>=-2*JM-2*Jm)&(eigval[i]<=-2*JM+2*Jm):\n",
    "            ScatteringIndex.append(i)\n",
    "        elif (eigval[i]>=-2*Jm)&(eigval[i]<=2*Jm):\n",
    "            ScatteringIndex.append(i)\n",
    "        elif (eigval[i]>=-2*Jm+2*JM)&(eigval[i]<=2*Jm+2*JM):\n",
    "            ScatteringIndex.append(i)\n",
    "        elif (eigval[i]>=-J1+J2-0.05)&(eigval[i]<=J2+J1+0.05):\n",
    "            BEIndex.append(i)\n",
    "        elif (eigval[i]>=-J1-J2-0.05)&(eigval[i]<=-J2+J1+0.05):\n",
    "            BEIndex.append(i)\n",
    "        else:\n",
    "            DoublIndex.append(i)\n",
    "\n",
    "\n",
    "    ScatteringIndex=np.asarray(ScatteringIndex)\n",
    "    BEIndex=np.asarray(BEIndex)\n",
    "    DoublIndex=np.asarray(DoublIndex)\n",
    "    UnstDoublIndex=np.asarray(UnstDoublIndex)\n",
    "    auxD=np.argsort(participation_ratio[DoublIndex])\n",
    "    plt.scatter(eigval[ScatteringIndex], participation_ratio[ScatteringIndex], zorder=5, color='red', s=20, label='Scattering States')\n",
    "    plt.scatter(eigval[BEIndex], participation_ratio[BEIndex], color='black', s=20, label='Bulk-Edge States')\n",
    "    plt.scatter(eigval[DoublIndex], participation_ratio[DoublIndex], color='cyan', s=20, label='Doublons')\n",
    "    #plt.scatter(eigval[UnstDoublIndex], participation_ratio[UnstDoublIndex], color='orange', s=10, label='Decaying Doublons')\n",
    "    plt.scatter(eigval[ScatteringIndex[np.argmin(participation_ratio[ScatteringIndex])]], participation_ratio[ScatteringIndex[np.argmin(participation_ratio[ScatteringIndex])]], zorder=10, color='green', s=20, label='Scattering Edge')\n",
    "    plt.scatter(eigval[DoublIndex[auxD[0]]], participation_ratio[DoublIndex[auxD[0]]],s=20, color='blue', zorder=10, label='Edge Doublon')\n",
    "    plt.scatter(eigval[DoublIndex[auxD[1]]], participation_ratio[DoublIndex[auxD[1]]],s=20, color='magenta', zorder=10, label='Quasiedge Doubl.')\"\"\"\n",
    "    plt.scatter(eigval/J2, participation_ratio, zorder=5, color='red', s=20)\n",
    "plt.xlabel(\"$E/J_2$\")\n",
    "plt.ylabel(\"PR(E)\")\n",
    "ymax=100\n",
    "#plt.fill_between(eigval, 0, ymax, where=(eigval>-2*JM-2*Jm)&(eigval<-2*JM+2*Jm), alpha=0.8, color='pink', zorder=0, label='Scattering bands')\n",
    "#plt.fill_between(eigval, 0, ymax, where=(eigval>-2*Jm)&(eigval<2*Jm), alpha=0.8, color='pink', zorder=0)\n",
    "#plt.fill_between(eigval, 0, ymax, where=(eigval>-2*Jm+2*JM)&(eigval<2*Jm+2*JM), alpha=0.8, color='pink', zorder=0)\n",
    "#plt.fill_between(eigval, 0, ymax, where=(eigval>-J1+J2)&(eigval<J2+J1), alpha=0.8, color='gray', zorder=0, label='Bulk-Edge bands')\n",
    "#plt.fill_between(eigval,  0, ymax, where=(eigval>-J1-J2)&(eigval<-J2+J1), alpha=0.8, color='gray', zorder=0)\n",
    "plt.ylim(0,100)\n",
    "#plt.title(\"Participation ratio as a function of the Energy of the eigenstate\")\n",
    "#plt.legend(loc=[0.55,0.5], labelspacing=0)\n",
    "plt.savefig(\"participation_ratio.png\")\n",
    "plt.show()\n",
    "print(\"Elementos del array, ordenados de menor a mayor PR\")\n",
    "print(np.argsort(participation_ratio))\n",
    "print(np.min(participation_ratio))\n",
    "#participation_ratio=np.asarray(participation_ratio)\n",
    "\"\"\"print(\"Participation Ratio\")\n",
    "print(InterestingEigVects)\n",
    "print(participation_ratio[InterestingEigVects])\n",
    "print(\"Number of occupied sites by the state\")\n",
    "print(NumberOccupiedSites[InterestingEigVects])\"\"\""
   ]
  },
  {
   "cell_type": "code",
   "execution_count": null,
   "metadata": {},
   "outputs": [],
   "source": []
  },
  {
   "cell_type": "code",
   "execution_count": 19,
   "metadata": {},
   "outputs": [
    {
     "data": {
      "text/plain": [
       "'dummy=np.asarray([[5, 2, 10], [5, 3, 2]])\\nprint((dummy[0,:]*dummy[1, :]+ dummy[1, :]*dummy[0, :])/(np.sqrt(2)))'"
      ]
     },
     "execution_count": 19,
     "metadata": {},
     "output_type": "execute_result"
    }
   ],
   "source": [
    "\"\"\"dummy=np.asarray([[5, 2, 10], [5, 3, 2]])\n",
    "print((dummy[0,:]*dummy[1, :]+ dummy[1, :]*dummy[0, :])/(np.sqrt(2)))\"\"\""
   ]
  },
  {
   "cell_type": "code",
   "execution_count": 20,
   "metadata": {},
   "outputs": [
    {
     "name": "stdout",
     "output_type": "stream",
     "text": [
      "40.66756900434675\n"
     ]
    }
   ],
   "source": [
    "print(participation_ratio[61])"
   ]
  },
  {
   "cell_type": "code",
   "execution_count": 21,
   "metadata": {},
   "outputs": [
    {
     "ename": "NameError",
     "evalue": "name 'IndexBulkBulk' is not defined",
     "output_type": "error",
     "traceback": [
      "\u001b[1;31m---------------------------------------------------------------------------\u001b[0m",
      "\u001b[1;31mNameError\u001b[0m                                 Traceback (most recent call last)",
      "\u001b[1;32m<ipython-input-21-19a95653bf74>\u001b[0m in \u001b[0;36m<module>\u001b[1;34m\u001b[0m\n\u001b[1;32m----> 1\u001b[1;33m \u001b[0mprint\u001b[0m\u001b[1;33m(\u001b[0m\u001b[0mnp\u001b[0m\u001b[1;33m.\u001b[0m\u001b[0mmean\u001b[0m\u001b[1;33m(\u001b[0m\u001b[0mparticipation_ratio\u001b[0m\u001b[1;33m[\u001b[0m\u001b[0mIndexBulkBulk\u001b[0m\u001b[1;33m]\u001b[0m\u001b[1;33m)\u001b[0m\u001b[1;33m)\u001b[0m\u001b[1;33m\u001b[0m\u001b[1;33m\u001b[0m\u001b[0m\n\u001b[0m",
      "\u001b[1;31mNameError\u001b[0m: name 'IndexBulkBulk' is not defined"
     ]
    }
   ],
   "source": [
    "print(np.mean(participation_ratio[IndexBulkBulk]))"
   ]
  },
  {
   "cell_type": "code",
   "execution_count": null,
   "metadata": {},
   "outputs": [],
   "source": [
    "print(np.argmin(participation_ratio[IndexBulkEdge]))"
   ]
  },
  {
   "cell_type": "code",
   "execution_count": null,
   "metadata": {},
   "outputs": [],
   "source": [
    "print(np.argpartition(participation_ratio, 3))"
   ]
  },
  {
   "cell_type": "code",
   "execution_count": null,
   "metadata": {},
   "outputs": [],
   "source": [
    "print(eigval[45], eigval[62])"
   ]
  },
  {
   "cell_type": "code",
   "execution_count": null,
   "metadata": {},
   "outputs": [],
   "source": []
  }
 ],
 "metadata": {
  "kernelspec": {
   "display_name": "Python 3",
   "language": "python",
   "name": "python3"
  },
  "language_info": {
   "codemirror_mode": {
    "name": "ipython",
    "version": 3
   },
   "file_extension": ".py",
   "mimetype": "text/x-python",
   "name": "python",
   "nbconvert_exporter": "python",
   "pygments_lexer": "ipython3",
   "version": "3.7.4"
  }
 },
 "nbformat": 4,
 "nbformat_minor": 2
}
