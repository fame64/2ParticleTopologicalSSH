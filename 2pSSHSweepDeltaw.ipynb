{
 "cells": [
  {
   "cell_type": "markdown",
   "metadata": {},
   "source": [
    "# Sweep Delta omega"
   ]
  },
  {
   "cell_type": "code",
   "execution_count": 16,
   "metadata": {},
   "outputs": [],
   "source": [
    "import numpy as np\n",
    "import numba\n",
    "from numba.types import *\n",
    "from numba import prange\n",
    "import matplotlib.pyplot as plt\n",
    "from numpy.linalg import eig\n",
    "from numpy import sin\n",
    "from numpy import pi\n",
    "import matplotlib as mpl\n",
    "from scipy.stats import linregress\n",
    "import matplotlib\n",
    "matplotlib.rcParams['mathtext.fontset'] = 'stix'\n",
    "matplotlib.rcParams['font.family'] = 'STIXGeneral'\n",
    "matplotlib.rcParams['font.size']=20"
   ]
  },
  {
   "cell_type": "code",
   "execution_count": 2,
   "metadata": {},
   "outputs": [],
   "source": [
    "L=1\n",
    "JM=1.5\n",
    "Jm=1\n",
    "ω=2\n",
    "N=40\n",
    "U=0.05*JM"
   ]
  },
  {
   "cell_type": "markdown",
   "metadata": {},
   "source": [
    "En estos subalgoritmos definimos los operadores creación y destrucción de bosones:\n",
    "$$a |n\\rangle = \\sqrt{n} |n-1\\rangle \\qquad a^\\dagger |n \\rangle = \\sqrt{n+1} |n+1  \\rangle$$"
   ]
  },
  {
   "cell_type": "code",
   "execution_count": 3,
   "metadata": {},
   "outputs": [],
   "source": [
    "@numba.jit(numba.types.Tuple((float64, float64))(float64), nopython = True, parallel = False)\n",
    "def a(n):\n",
    "    if n == 0:\n",
    "        return (0,0)\n",
    "    else:\n",
    "        return (n-1, np.sqrt(n))\n",
    "\n",
    "@numba.jit(numba.types.Tuple((float64, float64))(float64), nopython = True, parallel = False)\n",
    "def a_plus(n):\n",
    "    return (n+1, np.sqrt(n+1))"
   ]
  },
  {
   "cell_type": "code",
   "execution_count": 4,
   "metadata": {},
   "outputs": [],
   "source": [
    "#Definimos el producto entre un bra y un ket, si son iguales vale 1 y si son distintos 0\n",
    "@numba.jit(float64(float64[:],float64[:]), nopython = True, parallel = False)\n",
    "def bracket(bra1, ket1):\n",
    "    if np.all(bra1 == ket1):\n",
    "        return 1\n",
    "    else:\n",
    "        return 0"
   ]
  },
  {
   "cell_type": "code",
   "execution_count": null,
   "metadata": {},
   "outputs": [],
   "source": []
  },
  {
   "cell_type": "code",
   "execution_count": 5,
   "metadata": {},
   "outputs": [],
   "source": [
    "#Este subalgoritmo calcula un elemento de matriz con un Hamiltoniano \n",
    "@numba.jit(float64(float64[:],float64[:],float64[:,:], int64, int64, int64, float64, float64), nopython = True, parallel = False)\n",
    "def Elemento_matriz_Hamiltoniano(bra, ket, ω_matrix, N, i, j, J1, J2):\n",
    "    #<bra|H|ket>\n",
    "    #Inicialización\n",
    "    n_eigval=N*(N+1)/2\n",
    "    H=0\n",
    "    ket_aux = np.empty(len(ket))\n",
    "    ket_aux2 = np.empty(len(ket))\n",
    "    bra_aux = np.empty(len(ket))\n",
    "    #Términos en N y en N(N-1) del Hamiltoniano\n",
    "    bracket1 = bracket(bra, ket)\n",
    "    H += np.sum(ω_matrix[i, j]*ket*bracket1)\n",
    "    H += np.sum(0.5*U*ket*(ket-1)*bracket1)\n",
    "    \n",
    "    ket_aux[:] = ket\n",
    "    ket_aux2[:] = ket\n",
    "    bra_aux[:] = bra\n",
    "    #Calculamos los extremos de la cadena\n",
    "    if (N-1)%2==0:\n",
    "        J=-J1\n",
    "    else:\n",
    "        J=-J2\n",
    "    ket_aux[0], coef_term2=0,0\n",
    "    ket_aux[N-1], coef_term2_aux=a_plus(ket_aux[N-1])\n",
    "    term2 = J*coef_term2*coef_term2_aux*bracket(bra_aux, ket_aux)\n",
    "    ket_aux2[N-1], coef_term3=a(ket_aux2[N-1])\n",
    "    #P.B.C.\n",
    "    #ket_aux2[0], coef_term3_aux=a_plus(ket_aux2[0])\n",
    "    #H.B.C.\n",
    "    ket_aux2[0], coef_term3_aux=0,0\n",
    "    term3=(J)*coef_term3*coef_term3_aux*bracket(bra_aux, ket_aux2)\n",
    "    H+=term2+term3\n",
    "    for i in range(len(ket)-1):\n",
    "            #Recorremos el resto de sitios de la cadena\n",
    "            ket_aux[:] = ket\n",
    "            ket_aux2[:] = ket\n",
    "            bra_aux[:] = bra\n",
    "            if i%2==0:\n",
    "                J=-J1\n",
    "            else:\n",
    "                J=-J2\n",
    "            ket_aux[i+1], coef_term2 = a(ket_aux[i+1])\n",
    "            ket_aux[i], coef_term2_aux=a_plus(ket_aux[i])\n",
    "            term2=J*coef_term2*coef_term2_aux*bracket(bra_aux, ket_aux)\n",
    "            ket_aux2[i], coef_term3=a(ket_aux2[i])\n",
    "            ket_aux2[i+1], coef_term3_aux=a_plus(ket_aux2[i+1])\n",
    "            term3=(J)*coef_term3*coef_term3_aux*bracket(bra_aux, ket_aux2)\n",
    "            H+=term2+term3\n",
    "    return H"
   ]
  },
  {
   "cell_type": "code",
   "execution_count": 6,
   "metadata": {},
   "outputs": [],
   "source": [
    "@numba.jit(float64[:,:](float64[:, :],float64[:,:], int64, float64, float64), nopython = True, parallel = False)\n",
    "def ComputeH(ω_matrix,base, N, J1, J2):\n",
    "    n_eigval=int(N*(N+1)/2)\n",
    "    H = np.empty((n_eigval,n_eigval))\n",
    "    for i2 in range(n_eigval):\n",
    "        for j2 in range(n_eigval):\n",
    "            H[i2,j2]=Elemento_matriz_Hamiltoniano(base[i2],base[j2], ω_matrix, N, i2, j2, J1, J2)\n",
    "    return H"
   ]
  },
  {
   "cell_type": "code",
   "execution_count": 7,
   "metadata": {},
   "outputs": [],
   "source": [
    "@numba.jit(float64[:, :](int64, float64, float64, float64[:, :]), nopython=True, parallel=False)\n",
    "def FastHamiltonian(N, J1, J2, ω_matrix):\n",
    "    #Manera rapida de calcular el Hamiltoniano de 1 particula\n",
    "    H=np.zeros((N,N))\n",
    "    aux_N=int(N/2) #Numero de celdas\n",
    "    H_int1=np.asarray([[0, 1], [1, 0]])\n",
    "    aux1=np.kron(np.eye(aux_N), H_int1)\n",
    "    aux2=np.eye(N, k=1)+np.eye(N, k=-1)-aux1\n",
    "    H=J1*aux1+J2*aux2+ω_matrix\n",
    "    return H"
   ]
  },
  {
   "cell_type": "code",
   "execution_count": null,
   "metadata": {},
   "outputs": [],
   "source": []
  },
  {
   "cell_type": "code",
   "execution_count": 8,
   "metadata": {},
   "outputs": [],
   "source": [
    "@numba.jit(numba.types.Tuple((float64, int64))(float64[:,:]), nopython = True, parallel = False)\n",
    "def ComputeEigvalMinMaxTop(H):\n",
    "    #H=Matrix(n_eigval, n_eigval, func_aux)\n",
    "    #display(H)\n",
    "    #H=np.array(H).astype(np.float64)\n",
    "    #eigval, eigvect = np.linalg.eig(H)\n",
    "    eigval, eigvect = eig(H.astype(complex128))\n",
    "    eigval=eigval.real\n",
    "    idx = np.argsort(eigval)\n",
    "    eigval =eigval[idx]\n",
    "    eigvect = eigvect[:,idx]\n",
    "    participation_ratio = np.sum(np.abs(eigvect**2), axis = 0) / np.sum(np.abs(eigvect**4), axis = 0)\n",
    "    #Order=np.argsort(participation_ratio[int(N*(N+1)/2-20):int(N*(N+1)/2)])\n",
    "    minPR=np.min(participation_ratio)\n",
    "    indexmin=np.argmin(participation_ratio)\n",
    "    EigV_i=eigvect[:, indexmin]\n",
    "    eigvect2D=np.zeros((N, N))\n",
    "    counter=0\n",
    "    for i in range(N):\n",
    "        for j in range(i, N):\n",
    "            eigvect2D[i, j]=0\n",
    "            eigvect2D[j, i]=np.abs(EigV_i[counter])**2\n",
    "            counter+=1\n",
    "    result= np.where(eigvect2D == np.amax(eigvect2D))\n",
    "    auxP=list(zip(result[0], result[1]))\n",
    "    #print(auxP)\n",
    "    #typev=0 Scatt Edge, type=1 Edge Doublon, type=2 QuasiEdge DOublon\n",
    "    typev=-1\n",
    "    if auxP[0][0]==0 and auxP[0][1]==0:\n",
    "        typev=1\n",
    "    elif auxP[0][0]==N-1 and auxP[0][1]==N-1:\n",
    "        typev=1\n",
    "    elif auxP[0][0]==N-1 and auxP[0][1]==0:\n",
    "        typev=0\n",
    "    else:\n",
    "        typev=2\n",
    "    return (minPR, typev)\n",
    "@numba.jit(float64(float64[:,:]), nopython = True, parallel = False)\n",
    "def ComputeEigvalMinMaxTriv(H):\n",
    "    #H=Matrix(n_eigval, n_eigval, func_aux)\n",
    "    #display(H)\n",
    "    #H=np.array(H).astype(np.float64)\n",
    "    #eigval, eigvect = np.linalg.eig(H)\n",
    "    eigval, eigvect = eig(H.astype(complex128))\n",
    "    eigval=eigval.real\n",
    "    idx = np.argsort(eigval)\n",
    "    eigval =eigval[idx]\n",
    "    eigvect = eigvect[:,idx]\n",
    "    participation_ratio = np.sum(np.abs(eigvect**2), axis = 0) / np.sum(np.abs(eigvect**4), axis = 0)\n",
    "    #Order=np.argsort(participation_ratio[int(N*(N+1)/2-20):int(N*(N+1)/2)])\n",
    "    minPR=np.min(participation_ratio)\n",
    "    return minPR\n",
    "\n",
    "\n",
    "@numba.jit(float64[:,:,:,:](float64,float64,int64,float64[:,:], int64, int64, float64, float64), nopython = True, parallel = True)\n",
    "def sweepWSubalg(W_min, W_max, W_points, base, N, n_av, J1, J2):\n",
    "    n_eigval=int(N*(N+1)/2)\n",
    "    MinPRvsUHyperMatrix = np.zeros((n_eigval,n_eigval,W_points, n_av))\n",
    "    MinPRvsU = np.empty(W_points)\n",
    "    W_array=np.linspace(W_min,W_max,W_points)\n",
    "    for i in numba.prange(W_points):\n",
    "        for j in numba.prange(n_av):\n",
    "            ω_array=ω*(1+W_array[i]*(np.random.rand(N)-0.5))\n",
    "            ω_matrix=np.zeros((n_eigval, n_eigval))\n",
    "            counter=0\n",
    "            for l in range(N):\n",
    "                for k in range(l,N):\n",
    "                    ω_matrix[counter, counter]=(ω_array[l]+ω_array[k])/2\n",
    "                    counter+=1\n",
    "            MinPRvsUHyperMatrix[:,:,i, j] = ComputeH(ω_matrix,base, N, J1, J2)\n",
    "    return MinPRvsUHyperMatrix\n",
    "@numba.jit(float64[:,:,:,:](float64,float64,int64, int64, int64, float64, float64), nopython = True, parallel = True)\n",
    "def sweepWSubalg1p(W_min, W_max, W_points, N, n_av, J1, J2):\n",
    "    n_eigval=N\n",
    "    MinPRvsUHyperMatrix = np.zeros((n_eigval,n_eigval,W_points, n_av))\n",
    "    MinPRvsU = np.empty(W_points)\n",
    "    ω_array=np.zeros(N)\n",
    "    ω_matrix=np.zeros((n_eigval, n_eigval))\n",
    "    W_array=np.linspace(W_min,W_max,W_points)\n",
    "    for i in numba.prange(W_points):\n",
    "        for j in numba.prange(n_av):\n",
    "            ω_array=ω*(1+W_array[i]*(np.random.rand(N)-0.5))\n",
    "            ω_matrix=np.zeros((n_eigval, n_eigval))\n",
    "            for l in range(N):\n",
    "                ω_matrix[l, l]=ω_array[l]\n",
    "            #print(ω_matrix)\n",
    "            MinPRvsUHyperMatrix[:,:,i, j] =FastHamiltonian(N, J1, J2, ω_matrix)\n",
    "    return MinPRvsUHyperMatrix\n",
    "    "
   ]
  },
  {
   "cell_type": "code",
   "execution_count": 9,
   "metadata": {},
   "outputs": [],
   "source": [
    "def ComputeLocalizationLength(eigvect, base):\n",
    "    eigvecRealSpace=[]\n",
    "    eigvecRealSpace=np.matmul(base.transpose(), eigvect)\n",
    "    eigvecRealSpace=np.asarray(eigvecRealSpace)\n",
    "    aux_eig=(abs(eigvecRealSpace))**2\n",
    "    eigA= aux_eig[::2]\n",
    "    eigB=aux_eig[1::2]\n",
    "    minA=np.argmin(eigA)\n",
    "    minB=np.argmin(eigB)\n",
    "    maxA=np.argmax(eigA)\n",
    "    maxB=np.argmax(eigB)\n",
    "    xA=np.arange(1, L*len(eigvecRealSpace)+1, 2 )\n",
    "    xB=np.arange(2, L*len(eigvecRealSpace)+1, 2)\n",
    "    if maxA>minA:\n",
    "        eigAuxA=eigA[minA:maxA+1]\n",
    "        xAuxA=xA[minA:maxA+1]\n",
    "        mA, nA, trash, trash1, errA=linregress(xAuxA, np.log(eigAuxA))\n",
    "    else:\n",
    "        eigAuxA=eigA[maxA:minA+1]\n",
    "        xAuxA=xA[maxA:minA+1]\n",
    "        mA, nA, trash, trash1, errA=linregress(xAuxA, np.log(eigAuxA))\n",
    "    if maxB>minB:\n",
    "        eigAuxB=eigB[minB:maxB+1]\n",
    "        xAuxB=xB[minB:maxB+1]\n",
    "        mB, nB, trash, trash1, errB=linregress(xAuxB, np.log(eigAuxB))\n",
    "    else:\n",
    "        eigAuxB=eigB[maxB:minB+1]\n",
    "        xAuxB=xB[maxB:minB+1]\n",
    "        mB, nB, trash, trash1, errB=linregress(xAuxB, np.log(eigAuxB))\n",
    "    return (1/mA, errA/mA**2, 1/mB, errB/mB**2)"
   ]
  },
  {
   "cell_type": "code",
   "execution_count": 10,
   "metadata": {},
   "outputs": [],
   "source": [
    "n_eigval=int(N*(N+1)/2)\n",
    "W_min=0\n",
    "W_max=1\n",
    "n_points=20\n",
    "W_array=np.linspace(W_min, W_max, n_points)\n",
    "n_average=20\n",
    "Identity=np.identity(N)\n",
    "base=np.empty((n_eigval, N))\n",
    "counter=0\n",
    "for l in range(N):\n",
    "    for k in range(l,N):\n",
    "        ketB=Identity[k,:]+Identity[l,:]\n",
    "        #print(ketB)\n",
    "        base[counter, :]=ketB\n",
    "        counter+=1\n",
    "EvsU = np.empty((n_points, n_eigval))\n",
    "PRvsU=np.empty((n_points, n_eigval))\n",
    "eigvec=np.zeros((n_eigval, 2))\n",
    "LocLength=np.zeros((n_points, 4))\n",
    "errLocLength=np.zeros((n_points, 4))\n",
    "J1=Jm\n",
    "J2=JM\n",
    "MinPRvsUHyperMatrix1 = sweepWSubalg(W_min,W_max,n_points,base, N, n_average, J1, J2)\n",
    "minPRvsW1=np.zeros(n_points)\n",
    "auxPR1=np.zeros(n_points)\n",
    "sigmaPRW1=np.zeros(n_points)\n",
    "States=np.zeros(n_points)\n",
    "precision=np.zeros(n_points)\n",
    "for i in range(n_points):\n",
    "    stateAv=np.zeros(3)\n",
    "    for j in range(n_average):\n",
    "        auxPR1[j], typev=ComputeEigvalMinMaxTop(MinPRvsUHyperMatrix1[:,:,i, j])\n",
    "        if typev==0:\n",
    "            stateAv[0]+=1\n",
    "        elif typev==1:\n",
    "            stateAv[1]+=1\n",
    "        elif typev==2:\n",
    "            stateAv[2]+=1\n",
    "    minPRvsW1[i]= np.mean(auxPR1)\n",
    "    sigmaPRW1[i]=np.std(auxPR1)\n",
    "    States[i]=np.argmax(stateAv)\n",
    "    precision[i]=(np.max(stateAv)/n_average)\n",
    "J1=JM\n",
    "J2=Jm\n",
    "MinPRvsUHyperMatrix2 = sweepWSubalg(W_min,W_max,n_points,base, N, n_average, J1, J2)\n",
    "minPRvsW2=np.zeros(n_points)\n",
    "auxPR2=np.zeros(n_average)\n",
    "sigmaPRW2=np.zeros(n_points)\n",
    "for i in range(n_points):\n",
    "    for j in range(n_average):\n",
    "        auxPR2[j]=ComputeEigvalMinMaxTriv(MinPRvsUHyperMatrix2[:,:,i, j])\n",
    "    minPRvsW2[i]= np.mean(auxPR2)\n",
    "    sigmaPRW2[i]=np.std(auxPR2)"
   ]
  },
  {
   "cell_type": "code",
   "execution_count": 20,
   "metadata": {},
   "outputs": [
    {
     "data": {
      "image/png": "[encoded data removed]",
      "text/plain": [
       "<Figure size 432x288 with 1 Axes>"
      ]
     },
     "metadata": {
      "needs_background": "light"
     },
     "output_type": "display_data"
    }
   ],
   "source": [
    "#np.savetxt(\"L40auxPRW_0.txt\",  np.column_stack([np.abs(minPRvsW1-minPRvsW2),np.sqrt(sigmaPRW1**2+sigmaPRW2**2)]) )\n",
    "#auxPRW, sigmaauxPRW= np.loadtxt(\"auxPRW_5.txt\", unpack=True)\n",
    "#aux2PRW, sigmaaux2PRW=np.loadtxt(\"L40auxPRW_0.txt\", unpack=True)\n",
    "#aux3PRW, sigmaaux3PRW=np.loadtxt(\"auxPRW_25.txt\", unpack=True)\n",
    "#aux4PRW, sigmaaux4PRW=np.loadtxt(\"L40auxPRW_05.txt\", unpack=True)\n",
    "#aux5PRW, sigmaaux5PRW=np.loadtxt(\"L40auxPRW_005.txt\", unpack=True)\n",
    "#aux6PRW, sigmaaux6PRW=np.loadtxt(\"auxPRW_m005.txt\", unpack=True)\n",
    "W_array=np.linspace(W_min, W_max, len(minPRvsW2))\n",
    "plt.figure(figsize=[6,4])\n",
    "#cmap1=mpl.cm.get_cmap('plasma_r')\n",
    "#plt.scatter(W_array[States==0], np.abs(minPRvsW1-minPRvsW2)[States==0], s=70, c=precision[States==0], cmap=cmap1, label='Scattering Edge', marker='^')\n",
    "#plt.scatter(W_array[States==1], np.abs(minPRvsW1-minPRvsW2)[States==1], s=70,  c=precision[States==1], cmap=cmap1, label='Edge Doublon', marker='s')\n",
    "#plt.scatter(W_array[States==2], np.abs(minPRvsW1-minPRvsW2)[States==2], s=70, c=precision[States==2], cmap=cmap1, label='Bulk state', marker='o')\n",
    "#plt.clim(0.5, 1)\n",
    "#cb=plt.colorbar()\n",
    "plt.scatter(W_array, minPRvsW1, color='red', label='Topological phase')\n",
    "plt.scatter(W_array, minPRvsW2, color='black', label='Trivial phase')\n",
    "plt.errorbar(W_array, minPRvsW1, sigmaPRW1, color='red', linestyle='None', capsize=3)\n",
    "plt.errorbar(W_array, minPRvsW2, sigmaPRW2, color='black', linestyle='None', capsize=3)\n",
    "#cb.set_label(\"Fraction of states in the class\")\n",
    "#plt.errorbar(W_array, np.abs(minPRvsW1-minPRvsW2), np.sqrt(sigmaPRW1**2+sigmaPRW2**2),zorder=0, capsize=3, color='black', linestyle='None')\n",
    "#plt.scatter(W_array, aux5PRW, color='black', label='$U=0.05J_2$')\n",
    "#plt.errorbar(W_array, aux5PRW, sigmaaux5PRW, capsize=5, color='black', linestyle='None')\n",
    "#plt.scatter(W_array, auxPRW, color='blue', label='$U=5J_2$')\n",
    "#plt.errorbar(W_array, auxPRW, sigmaauxPRW, capsize=5, color='blue', linestyle='None')\n",
    "#plt.scatter(W_array, aux3PRW, color='green', label='$U=2.5J_2$')\n",
    "#plt.errorbar(W_array, aux3PRW, sigmaaux3PRW, capsize=5, color='green', linestyle='None')\n",
    "#plt.scatter(W_array, aux4PRW, color='blue', label='$U=0.5J_2$')\n",
    "#plt.errorbar(W_array, aux4PRW, sigmaaux4PRW, capsize=5, color='blue', linestyle='None')\n",
    "#plt.scatter(W_array, aux5PRW, color='magenta', label='$U=0.05J_2$')\n",
    "#plt.errorbar(W_array, aux5PRW, sigmaaux5PRW, capsize=5, color='magenta', linestyle='None')\n",
    "#plt.scatter(W_array, aux6PRW, color='brown', label='$U=0.05J_2$')\n",
    "#plt.errorbar(W_array, aux6PRW, sigmaaux6PRW, capsize=5, color='brown', linestyle='None')\n",
    "#plt.hlines(0, 0, W_max)\n",
    "#plt.ylim(-2,7.5)\n",
    "#plt.yscale('log')\n",
    "plt.ylabel(\"$min(PR)$\")\n",
    "plt.xlabel(\"$\\Delta \\omega/\\omega$\")\n",
    "plt.legend(loc=[0.39,0.73], framealpha=0.7, labelspacing=0, handletextpad=0)\n",
    "plt.show()"
   ]
  },
  {
   "cell_type": "code",
   "execution_count": 12,
   "metadata": {},
   "outputs": [
    {
     "data": {
      "text/plain": [
       "'W_min=0\\nW_max=1\\nn_points=40\\nW_array=np.linspace(W_min, W_max, n_points)\\nn_average=50\\n#Topological\\nMinPRvsUHyperMatrix11p = sweepWSubalg1p(W_min,W_max,n_points, N, n_average, -Jm, -JM)\\nminPRvsW11p=np.zeros(n_points)\\nauxPR11p=np.zeros(n_average)\\nsigmaPRW11p=np.zeros(n_points)\\nfor i in range(n_points):\\n    for j in range(n_average):\\n        auxPR11p[j]=ComputeEigvalMinMaxTriv(MinPRvsUHyperMatrix11p[:,:,i, j])\\n    minPRvsW11p[i]= np.mean(auxPR11p)\\n    sigmaPRW11p[i]=np.std(auxPR11p)\\n#Trivial\\nMinPRvsUHyperMatrix21p = sweepWSubalg1p(W_min,W_max,n_points, N, n_average, -JM, -Jm)\\nminPRvsW21p=np.zeros(n_points)\\nauxPR21p=np.zeros(n_average)\\nsigmaPRW21p=np.zeros(n_points)\\nfor i in range(n_points):\\n    for j in range(n_average):\\n        auxPR21p[j]=ComputeEigvalMinMaxTriv(MinPRvsUHyperMatrix21p[:,:,i, j])\\n    minPRvsW21p[i]= np.mean(auxPR21p)\\n    sigmaPRW21p[i]= np.std(auxPR21p)\\n'"
      ]
     },
     "execution_count": 12,
     "metadata": {},
     "output_type": "execute_result"
    }
   ],
   "source": [
    "\"\"\"W_min=0\n",
    "W_max=1\n",
    "n_points=40\n",
    "W_array=np.linspace(W_min, W_max, n_points)\n",
    "n_average=50\n",
    "#Topological\n",
    "MinPRvsUHyperMatrix11p = sweepWSubalg1p(W_min,W_max,n_points, N, n_average, -Jm, -JM)\n",
    "minPRvsW11p=np.zeros(n_points)\n",
    "auxPR11p=np.zeros(n_average)\n",
    "sigmaPRW11p=np.zeros(n_points)\n",
    "for i in range(n_points):\n",
    "    for j in range(n_average):\n",
    "        auxPR11p[j]=ComputeEigvalMinMaxTriv(MinPRvsUHyperMatrix11p[:,:,i, j])\n",
    "    minPRvsW11p[i]= np.mean(auxPR11p)\n",
    "    sigmaPRW11p[i]=np.std(auxPR11p)\n",
    "#Trivial\n",
    "MinPRvsUHyperMatrix21p = sweepWSubalg1p(W_min,W_max,n_points, N, n_average, -JM, -Jm)\n",
    "minPRvsW21p=np.zeros(n_points)\n",
    "auxPR21p=np.zeros(n_average)\n",
    "sigmaPRW21p=np.zeros(n_points)\n",
    "for i in range(n_points):\n",
    "    for j in range(n_average):\n",
    "        auxPR21p[j]=ComputeEigvalMinMaxTriv(MinPRvsUHyperMatrix21p[:,:,i, j])\n",
    "    minPRvsW21p[i]= np.mean(auxPR21p)\n",
    "    sigmaPRW21p[i]= np.std(auxPR21p)\n",
    "\"\"\""
   ]
  },
  {
   "cell_type": "code",
   "execution_count": 13,
   "metadata": {},
   "outputs": [
    {
     "data": {
      "text/plain": [
       "'plt.figure(figsize=[8,6])\\n#plt.scatter(W_array, minPRvsW21p, color=\\'black\\', label=\\'Trivial Phase\\')\\n#plt.errorbar(W_array, minPRvsW21p, sigmaPRW21p, capsize=5, color=\\'black\\', linestyle=\\'None\\')\\nplt.scatter(W_array, np.abs(minPRvsW11p-minPRvsW21p), color=\\'red\\', label=\\'1 particle SSH\\')\\nplt.errorbar(W_array, np.abs(minPRvsW11p-minPRvsW21p), np.sqrt(sigmaPRW21p**2+sigmaPRW11p**2), capsize=5, color=\\'red\\', linestyle=\\'None\\')\\nplt.ylabel(\"$|min({PR}_{Topological})-min({PR}_{Trivial})|$\")\\nplt.xlabel(\"$\\\\Delta \\\\omega/\\\\omega$\")\\nplt.hlines(0, 0, 1)\\nplt.legend()\\nplt.show()'"
      ]
     },
     "execution_count": 13,
     "metadata": {},
     "output_type": "execute_result"
    }
   ],
   "source": [
    "\"\"\"plt.figure(figsize=[8,6])\n",
    "#plt.scatter(W_array, minPRvsW21p, color='black', label='Trivial Phase')\n",
    "#plt.errorbar(W_array, minPRvsW21p, sigmaPRW21p, capsize=5, color='black', linestyle='None')\n",
    "plt.scatter(W_array, np.abs(minPRvsW11p-minPRvsW21p), color='red', label='1 particle SSH')\n",
    "plt.errorbar(W_array, np.abs(minPRvsW11p-minPRvsW21p), np.sqrt(sigmaPRW21p**2+sigmaPRW11p**2), capsize=5, color='red', linestyle='None')\n",
    "plt.ylabel(\"$|min({PR}_{Topological})-min({PR}_{Trivial})|$\")\n",
    "plt.xlabel(\"$\\Delta \\omega/\\omega$\")\n",
    "plt.hlines(0, 0, 1)\n",
    "plt.legend()\n",
    "plt.show()\"\"\""
   ]
  },
  {
   "cell_type": "code",
   "execution_count": 14,
   "metadata": {},
   "outputs": [
    {
     "data": {
      "image/png": "[encoded data removed]",
      "text/plain": [
       "<Figure size 504x360 with 1 Axes>"
      ]
     },
     "metadata": {
      "needs_background": "light"
     },
     "output_type": "display_data"
    }
   ],
   "source": [
    "plt.figure(figsize=[7,5])\n",
    "#auxPRW, sigmaauxPRW= np.loadtxt(\"auxPRW_5.txt\", unpack=True)\n",
    "aux2PRW, sigmaaux2PRW=np.loadtxt(\"LauxPRW_0.txt\", unpack=True)\n",
    "aux3PRW, sigmaaux3PRW=np.loadtxt(\"LauxPRW_25.txt\", unpack=True)\n",
    "aux4PRW, sigmaaux4PRW=np.loadtxt(\"LauxPRW_05.txt\", unpack=True)\n",
    "aux5PRW, sigmaaux5PRW=np.loadtxt(\"LauxPRW_005.txt\", unpack=True)\n",
    "#aux6PRW, sigmaaux6PRW=np.loadtxt(\"auxPRW_m005.txt\", unpack=True)\n",
    "W_array=np.linspace(W_min, W_max, len(aux2PRW))\n",
    "plt.scatter(W_array, aux2PRW, color='black', label='$U=0$')\n",
    "plt.errorbar(W_array, aux2PRW, sigmaaux5PRW, capsize=3, color='black', linestyle='None')\n",
    "plt.scatter(W_array, aux5PRW, color='magenta', label='$U=0.05J_2$')\n",
    "plt.errorbar(W_array, aux5PRW, sigmaaux5PRW, capsize=3, color='magenta', linestyle='None')\n",
    "#plt.scatter(W_array, auxPRW, color='blue', label='$U=5J_2$')\n",
    "#plt.errorbar(W_array, auxPRW, sigmaauxPRW, capsize=5, color='blue', linestyle='None')\n",
    "plt.scatter(W_array, aux4PRW, color='blue', label='$U=0.5J_2$')\n",
    "plt.errorbar(W_array, aux4PRW, sigmaaux4PRW, capsize=3, color='blue', linestyle='None')\n",
    "plt.scatter(W_array, aux3PRW, color='green', label='$U=2.5J_2$')\n",
    "plt.errorbar(W_array, aux3PRW, sigmaaux3PRW, capsize=3, color='green', linestyle='None')\n",
    "\n",
    "\n",
    "#plt.scatter(W_array, aux6PRW, color='brown', label='$U=0.05J_2$')\n",
    "#plt.errorbar(W_array, aux6PRW, sigmaaux6PRW, capsize=5, color='brown', linestyle='None')\n",
    "plt.hlines(0, 0, W_max)\n",
    "plt.ylabel(\"$|min({PR}_{Topological})-min({PR}_{Trivial})|$\")\n",
    "plt.xlabel(\"$\\Delta \\omega/\\omega$\")\n",
    "plt.legend( labelspacing=0)\n",
    "plt.show()"
   ]
  },
  {
   "cell_type": "code",
   "execution_count": null,
   "metadata": {},
   "outputs": [],
   "source": []
  },
  {
   "cell_type": "code",
   "execution_count": null,
   "metadata": {},
   "outputs": [],
   "source": []
  },
  {
   "cell_type": "code",
   "execution_count": null,
   "metadata": {},
   "outputs": [],
   "source": []
  }
 ],
 "metadata": {
  "kernelspec": {
   "display_name": "Python 3",
   "language": "python",
   "name": "python3"
  },
  "language_info": {
   "codemirror_mode": {
    "name": "ipython",
    "version": 3
   },
   "file_extension": ".py",
   "mimetype": "text/x-python",
   "name": "python",
   "nbconvert_exporter": "python",
   "pygments_lexer": "ipython3",
   "version": "3.7.4"
  }
 },
 "nbformat": 4,
 "nbformat_minor": 2
}
